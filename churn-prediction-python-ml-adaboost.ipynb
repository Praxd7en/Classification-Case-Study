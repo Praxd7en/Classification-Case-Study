{
 "cells": [
  {
   "cell_type": "markdown",
   "id": "888cd685",
   "metadata": {
    "papermill": {
     "duration": 0.009309,
     "end_time": "2022-11-08T15:30:01.792532",
     "exception": false,
     "start_time": "2022-11-08T15:30:01.783223",
     "status": "completed"
    },
    "tags": []
   },
   "source": [
    "# 1/Import Libraries"
   ]
  },
  {
   "cell_type": "code",
   "execution_count": 1,
   "id": "76e4411a",
   "metadata": {
    "execution": {
     "iopub.execute_input": "2022-11-08T15:30:01.811271Z",
     "iopub.status.busy": "2022-11-08T15:30:01.810612Z",
     "iopub.status.idle": "2022-11-08T15:30:03.275898Z",
     "shell.execute_reply": "2022-11-08T15:30:03.274963Z"
    },
    "papermill": {
     "duration": 1.47822,
     "end_time": "2022-11-08T15:30:03.279055",
     "exception": false,
     "start_time": "2022-11-08T15:30:01.800835",
     "status": "completed"
    },
    "tags": []
   },
   "outputs": [],
   "source": [
    "import os\n",
    "import numpy as np \n",
    "import pandas as pd \n",
    "\n",
    "# For Train Test split\n",
    "from sklearn.model_selection import train_test_split\n",
    "#For using Ensemble model - Adaboost\n",
    "from sklearn.ensemble import AdaBoostClassifier\n",
    "# For Finding otimum hyperparameter on Adaboost\n",
    "from sklearn.model_selection import GridSearchCV\n",
    "# For Diagnosis of classification model\n",
    "from sklearn.metrics import classification_report\n",
    "# To ignore warning messages\n",
    "import warnings\n",
    "warnings.filterwarnings(\"ignore\", category=FutureWarning)"
   ]
  },
  {
   "cell_type": "markdown",
   "id": "f44457aa",
   "metadata": {
    "papermill": {
     "duration": 0.010638,
     "end_time": "2022-11-08T15:30:03.301148",
     "exception": false,
     "start_time": "2022-11-08T15:30:03.290510",
     "status": "completed"
    },
    "tags": []
   },
   "source": [
    "# 2/Import Data"
   ]
  },
  {
   "cell_type": "code",
   "execution_count": 2,
   "id": "cafcfa9e",
   "metadata": {
    "execution": {
     "iopub.execute_input": "2022-11-08T15:30:03.326340Z",
     "iopub.status.busy": "2022-11-08T15:30:03.325148Z",
     "iopub.status.idle": "2022-11-08T15:30:03.382169Z",
     "shell.execute_reply": "2022-11-08T15:30:03.381052Z"
    },
    "papermill": {
     "duration": 0.072219,
     "end_time": "2022-11-08T15:30:03.384713",
     "exception": false,
     "start_time": "2022-11-08T15:30:03.312494",
     "status": "completed"
    },
    "tags": []
   },
   "outputs": [],
   "source": [
    "data = pd.read_csv('../input/ipba-12-unext-jigsaw-classification-case-study/train.csv',na_values=\" \")"
   ]
  },
  {
   "cell_type": "markdown",
   "id": "84d2b17b",
   "metadata": {
    "papermill": {
     "duration": 0.007735,
     "end_time": "2022-11-08T15:30:03.400670",
     "exception": false,
     "start_time": "2022-11-08T15:30:03.392935",
     "status": "completed"
    },
    "tags": []
   },
   "source": [
    "# 3/Data Sanity"
   ]
  },
  {
   "cell_type": "code",
   "execution_count": 3,
   "id": "690ac59a",
   "metadata": {
    "execution": {
     "iopub.execute_input": "2022-11-08T15:30:03.420788Z",
     "iopub.status.busy": "2022-11-08T15:30:03.419739Z",
     "iopub.status.idle": "2022-11-08T15:30:03.438277Z",
     "shell.execute_reply": "2022-11-08T15:30:03.437084Z"
    },
    "papermill": {
     "duration": 0.032353,
     "end_time": "2022-11-08T15:30:03.441241",
     "exception": false,
     "start_time": "2022-11-08T15:30:03.408888",
     "status": "completed"
    },
    "tags": []
   },
   "outputs": [
    {
     "data": {
      "text/plain": [
       "customerID          0\n",
       "gender              0\n",
       "SeniorCitizen       0\n",
       "Partner             0\n",
       "Dependents          0\n",
       "tenure              0\n",
       "PhoneService        0\n",
       "MultipleLines       0\n",
       "InternetService     0\n",
       "OnlineSecurity      0\n",
       "OnlineBackup        0\n",
       "DeviceProtection    0\n",
       "TechSupport         0\n",
       "StreamingTV         0\n",
       "StreamingMovies     0\n",
       "Contract            0\n",
       "PaperlessBilling    0\n",
       "PaymentMethod       0\n",
       "MonthlyCharges      0\n",
       "TotalCharges        8\n",
       "Churn               0\n",
       "dtype: int64"
      ]
     },
     "execution_count": 3,
     "metadata": {},
     "output_type": "execute_result"
    }
   ],
   "source": [
    "# Check for missing values and treating them\n",
    "data.isnull().sum()"
   ]
  },
  {
   "cell_type": "code",
   "execution_count": 4,
   "id": "de20cbc3",
   "metadata": {
    "execution": {
     "iopub.execute_input": "2022-11-08T15:30:03.459753Z",
     "iopub.status.busy": "2022-11-08T15:30:03.459113Z",
     "iopub.status.idle": "2022-11-08T15:30:03.470097Z",
     "shell.execute_reply": "2022-11-08T15:30:03.468934Z"
    },
    "papermill": {
     "duration": 0.023105,
     "end_time": "2022-11-08T15:30:03.472537",
     "exception": false,
     "start_time": "2022-11-08T15:30:03.449432",
     "status": "completed"
    },
    "tags": []
   },
   "outputs": [],
   "source": [
    "data.TotalCharges.fillna(value=data.TotalCharges.mean(), inplace=True)"
   ]
  },
  {
   "cell_type": "code",
   "execution_count": 5,
   "id": "e3a27caf",
   "metadata": {
    "execution": {
     "iopub.execute_input": "2022-11-08T15:30:03.492492Z",
     "iopub.status.busy": "2022-11-08T15:30:03.491521Z",
     "iopub.status.idle": "2022-11-08T15:30:03.506796Z",
     "shell.execute_reply": "2022-11-08T15:30:03.505362Z"
    },
    "papermill": {
     "duration": 0.028727,
     "end_time": "2022-11-08T15:30:03.509699",
     "exception": false,
     "start_time": "2022-11-08T15:30:03.480972",
     "status": "completed"
    },
    "tags": []
   },
   "outputs": [
    {
     "data": {
      "text/plain": [
       "customerID          0\n",
       "gender              0\n",
       "SeniorCitizen       0\n",
       "Partner             0\n",
       "Dependents          0\n",
       "tenure              0\n",
       "PhoneService        0\n",
       "MultipleLines       0\n",
       "InternetService     0\n",
       "OnlineSecurity      0\n",
       "OnlineBackup        0\n",
       "DeviceProtection    0\n",
       "TechSupport         0\n",
       "StreamingTV         0\n",
       "StreamingMovies     0\n",
       "Contract            0\n",
       "PaperlessBilling    0\n",
       "PaymentMethod       0\n",
       "MonthlyCharges      0\n",
       "TotalCharges        0\n",
       "Churn               0\n",
       "dtype: int64"
      ]
     },
     "execution_count": 5,
     "metadata": {},
     "output_type": "execute_result"
    }
   ],
   "source": [
    "data.isnull().sum()"
   ]
  },
  {
   "cell_type": "code",
   "execution_count": 6,
   "id": "7d6ba7d7",
   "metadata": {
    "execution": {
     "iopub.execute_input": "2022-11-08T15:30:03.529513Z",
     "iopub.status.busy": "2022-11-08T15:30:03.528823Z",
     "iopub.status.idle": "2022-11-08T15:30:03.571512Z",
     "shell.execute_reply": "2022-11-08T15:30:03.569586Z"
    },
    "papermill": {
     "duration": 0.055787,
     "end_time": "2022-11-08T15:30:03.574477",
     "exception": false,
     "start_time": "2022-11-08T15:30:03.518690",
     "status": "completed"
    },
    "tags": []
   },
   "outputs": [
    {
     "name": "stdout",
     "output_type": "stream",
     "text": [
      "<class 'pandas.core.frame.DataFrame'>\n",
      "RangeIndex: 5282 entries, 0 to 5281\n",
      "Data columns (total 21 columns):\n",
      " #   Column            Non-Null Count  Dtype  \n",
      "---  ------            --------------  -----  \n",
      " 0   customerID        5282 non-null   object \n",
      " 1   gender            5282 non-null   object \n",
      " 2   SeniorCitizen     5282 non-null   int64  \n",
      " 3   Partner           5282 non-null   object \n",
      " 4   Dependents        5282 non-null   object \n",
      " 5   tenure            5282 non-null   int64  \n",
      " 6   PhoneService      5282 non-null   object \n",
      " 7   MultipleLines     5282 non-null   object \n",
      " 8   InternetService   5282 non-null   object \n",
      " 9   OnlineSecurity    5282 non-null   object \n",
      " 10  OnlineBackup      5282 non-null   object \n",
      " 11  DeviceProtection  5282 non-null   object \n",
      " 12  TechSupport       5282 non-null   object \n",
      " 13  StreamingTV       5282 non-null   object \n",
      " 14  StreamingMovies   5282 non-null   object \n",
      " 15  Contract          5282 non-null   object \n",
      " 16  PaperlessBilling  5282 non-null   object \n",
      " 17  PaymentMethod     5282 non-null   object \n",
      " 18  MonthlyCharges    5282 non-null   float64\n",
      " 19  TotalCharges      5282 non-null   float64\n",
      " 20  Churn             5282 non-null   int64  \n",
      "dtypes: float64(2), int64(3), object(16)\n",
      "memory usage: 866.7+ KB\n",
      "<class 'pandas.core.frame.DataFrame'>\n",
      "RangeIndex: 5282 entries, 0 to 5281\n",
      "Data columns (total 21 columns):\n",
      " #   Column            Non-Null Count  Dtype  \n",
      "---  ------            --------------  -----  \n",
      " 0   customerID        5282 non-null   object \n",
      " 1   gender            5282 non-null   object \n",
      " 2   SeniorCitizen     5282 non-null   object \n",
      " 3   Partner           5282 non-null   object \n",
      " 4   Dependents        5282 non-null   object \n",
      " 5   tenure            5282 non-null   int64  \n",
      " 6   PhoneService      5282 non-null   object \n",
      " 7   MultipleLines     5282 non-null   object \n",
      " 8   InternetService   5282 non-null   object \n",
      " 9   OnlineSecurity    5282 non-null   object \n",
      " 10  OnlineBackup      5282 non-null   object \n",
      " 11  DeviceProtection  5282 non-null   object \n",
      " 12  TechSupport       5282 non-null   object \n",
      " 13  StreamingTV       5282 non-null   object \n",
      " 14  StreamingMovies   5282 non-null   object \n",
      " 15  Contract          5282 non-null   object \n",
      " 16  PaperlessBilling  5282 non-null   object \n",
      " 17  PaymentMethod     5282 non-null   object \n",
      " 18  MonthlyCharges    5282 non-null   float64\n",
      " 19  TotalCharges      5282 non-null   float64\n",
      " 20  Churn             5282 non-null   int64  \n",
      "dtypes: float64(2), int64(2), object(17)\n",
      "memory usage: 866.7+ KB\n"
     ]
    }
   ],
   "source": [
    "# Check for proper data types on variables\n",
    "data.info()\n",
    "data.SeniorCitizen = data.SeniorCitizen.astype(object)\n",
    "data.info()"
   ]
  },
  {
   "cell_type": "code",
   "execution_count": 7,
   "id": "6bfc47aa",
   "metadata": {
    "execution": {
     "iopub.execute_input": "2022-11-08T15:30:03.596588Z",
     "iopub.status.busy": "2022-11-08T15:30:03.594976Z",
     "iopub.status.idle": "2022-11-08T15:30:04.944864Z",
     "shell.execute_reply": "2022-11-08T15:30:04.943262Z"
    },
    "papermill": {
     "duration": 1.364473,
     "end_time": "2022-11-08T15:30:04.947691",
     "exception": false,
     "start_time": "2022-11-08T15:30:03.583218",
     "status": "completed"
    },
    "tags": []
   },
   "outputs": [
    {
     "data": {
      "text/plain": [
       "0.6541128538327665"
      ]
     },
     "execution_count": 7,
     "metadata": {},
     "output_type": "execute_result"
    },
    {
     "data": {
      "image/png": "[encoded data removed]",
      "text/plain": [
       "<Figure size 360x360 with 6 Axes>"
      ]
     },
     "metadata": {
      "needs_background": "light"
     },
     "output_type": "display_data"
    }
   ],
   "source": [
    "import seaborn as sns\n",
    "# High Correlation between Monthly Charges and Total charges, drop monthly charges from model\n",
    "sns.pairplot(data[[\"MonthlyCharges\",\"TotalCharges\"]])\n",
    "correlation = data['MonthlyCharges'].corr(data['TotalCharges'])\n",
    "correlation"
   ]
  },
  {
   "cell_type": "code",
   "execution_count": 8,
   "id": "27cc0313",
   "metadata": {
    "execution": {
     "iopub.execute_input": "2022-11-08T15:30:04.974044Z",
     "iopub.status.busy": "2022-11-08T15:30:04.973322Z",
     "iopub.status.idle": "2022-11-08T15:30:05.400099Z",
     "shell.execute_reply": "2022-11-08T15:30:05.398854Z"
    },
    "papermill": {
     "duration": 0.4452,
     "end_time": "2022-11-08T15:30:05.402602",
     "exception": false,
     "start_time": "2022-11-08T15:30:04.957402",
     "status": "completed"
    },
    "tags": []
   },
   "outputs": [
    {
     "data": {
      "text/plain": [
       "<seaborn.axisgrid.FacetGrid at 0x7fcce7f1e1d0>"
      ]
     },
     "execution_count": 8,
     "metadata": {},
     "output_type": "execute_result"
    },
    {
     "data": {
      "image/png": "[encoded data removed]",
      "text/plain": [
       "<Figure size 402.375x360 with 1 Axes>"
      ]
     },
     "metadata": {
      "needs_background": "light"
     },
     "output_type": "display_data"
    }
   ],
   "source": [
    "# Plot tenure to identify distribution against churn\n",
    "sns.displot(data, x=\"tenure\", hue=\"Churn\", multiple=\"dodge\")"
   ]
  },
  {
   "cell_type": "code",
   "execution_count": 9,
   "id": "8ae2eb0c",
   "metadata": {
    "execution": {
     "iopub.execute_input": "2022-11-08T15:30:05.425599Z",
     "iopub.status.busy": "2022-11-08T15:30:05.424387Z",
     "iopub.status.idle": "2022-11-08T15:30:05.442300Z",
     "shell.execute_reply": "2022-11-08T15:30:05.441140Z"
    },
    "papermill": {
     "duration": 0.032095,
     "end_time": "2022-11-08T15:30:05.444918",
     "exception": false,
     "start_time": "2022-11-08T15:30:05.412823",
     "status": "completed"
    },
    "tags": []
   },
   "outputs": [
    {
     "data": {
      "text/plain": [
       "short       2168\n",
       "long        1061\n",
       "moderate    1050\n",
       "medium      1003\n",
       "Name: tenure_bucket, dtype: int64"
      ]
     },
     "execution_count": 9,
     "metadata": {},
     "output_type": "execute_result"
    }
   ],
   "source": [
    "# Binning tenure for effecient model\n",
    "condition = [\n",
    "    (data['tenure'] <= 20),\n",
    "    (data['tenure'] > 20) & (data['tenure'] <= 40),\n",
    "    (data['tenure'] > 40) & (data['tenure'] <= 60),\n",
    "    (data['tenure'] > 60)\n",
    "]\n",
    "\n",
    "# Create list of categorical values related to these conditions\n",
    "values = ['short','moderate','medium','long']\n",
    "\n",
    "# Create a new column\n",
    "data['tenure_bucket'] = np.select(condition,values)\n",
    "data['tenure_bucket'].value_counts()"
   ]
  },
  {
   "cell_type": "markdown",
   "id": "2856d5e6",
   "metadata": {
    "papermill": {
     "duration": 0.010041,
     "end_time": "2022-11-08T15:30:05.465303",
     "exception": false,
     "start_time": "2022-11-08T15:30:05.455262",
     "status": "completed"
    },
    "tags": []
   },
   "source": [
    "# 4/Prepare for Train-Test split"
   ]
  },
  {
   "cell_type": "code",
   "execution_count": 10,
   "id": "a77e39df",
   "metadata": {
    "execution": {
     "iopub.execute_input": "2022-11-08T15:30:05.487885Z",
     "iopub.status.busy": "2022-11-08T15:30:05.487466Z",
     "iopub.status.idle": "2022-11-08T15:30:05.498099Z",
     "shell.execute_reply": "2022-11-08T15:30:05.496788Z"
    },
    "papermill": {
     "duration": 0.024978,
     "end_time": "2022-11-08T15:30:05.500613",
     "exception": false,
     "start_time": "2022-11-08T15:30:05.475635",
     "status": "completed"
    },
    "tags": []
   },
   "outputs": [],
   "source": [
    "# Separate out Predictor and Target variables\n",
    "y = data['Churn']\n",
    "X = data.drop(['customerID','Churn','tenure','MonthlyCharges'], axis = 1)"
   ]
  },
  {
   "cell_type": "code",
   "execution_count": 11,
   "id": "0740c080",
   "metadata": {
    "execution": {
     "iopub.execute_input": "2022-11-08T15:30:05.523610Z",
     "iopub.status.busy": "2022-11-08T15:30:05.522830Z",
     "iopub.status.idle": "2022-11-08T15:30:05.574238Z",
     "shell.execute_reply": "2022-11-08T15:30:05.572885Z"
    },
    "papermill": {
     "duration": 0.065973,
     "end_time": "2022-11-08T15:30:05.576847",
     "exception": false,
     "start_time": "2022-11-08T15:30:05.510874",
     "status": "completed"
    },
    "tags": []
   },
   "outputs": [
    {
     "data": {
      "text/html": [
       "<div>\n",
       "<style scoped>\n",
       "    .dataframe tbody tr th:only-of-type {\n",
       "        vertical-align: middle;\n",
       "    }\n",
       "\n",
       "    .dataframe tbody tr th {\n",
       "        vertical-align: top;\n",
       "    }\n",
       "\n",
       "    .dataframe thead th {\n",
       "        text-align: right;\n",
       "    }\n",
       "</style>\n",
       "<table border=\"1\" class=\"dataframe\">\n",
       "  <thead>\n",
       "    <tr style=\"text-align: right;\">\n",
       "      <th></th>\n",
       "      <th>TotalCharges</th>\n",
       "      <th>gender_Female</th>\n",
       "      <th>gender_Male</th>\n",
       "      <th>SeniorCitizen_0</th>\n",
       "      <th>SeniorCitizen_1</th>\n",
       "      <th>Partner_No</th>\n",
       "      <th>Partner_Yes</th>\n",
       "      <th>Dependents_No</th>\n",
       "      <th>Dependents_Yes</th>\n",
       "      <th>PhoneService_No</th>\n",
       "      <th>...</th>\n",
       "      <th>PaperlessBilling_No</th>\n",
       "      <th>PaperlessBilling_Yes</th>\n",
       "      <th>PaymentMethod_Bank transfer (automatic)</th>\n",
       "      <th>PaymentMethod_Credit card (automatic)</th>\n",
       "      <th>PaymentMethod_Electronic check</th>\n",
       "      <th>PaymentMethod_Mailed check</th>\n",
       "      <th>tenure_bucket_long</th>\n",
       "      <th>tenure_bucket_medium</th>\n",
       "      <th>tenure_bucket_moderate</th>\n",
       "      <th>tenure_bucket_short</th>\n",
       "    </tr>\n",
       "  </thead>\n",
       "  <tbody>\n",
       "    <tr>\n",
       "      <th>0</th>\n",
       "      <td>3784.00</td>\n",
       "      <td>1</td>\n",
       "      <td>0</td>\n",
       "      <td>1</td>\n",
       "      <td>0</td>\n",
       "      <td>0</td>\n",
       "      <td>1</td>\n",
       "      <td>0</td>\n",
       "      <td>1</td>\n",
       "      <td>1</td>\n",
       "      <td>...</td>\n",
       "      <td>1</td>\n",
       "      <td>0</td>\n",
       "      <td>0</td>\n",
       "      <td>1</td>\n",
       "      <td>0</td>\n",
       "      <td>0</td>\n",
       "      <td>1</td>\n",
       "      <td>0</td>\n",
       "      <td>0</td>\n",
       "      <td>0</td>\n",
       "    </tr>\n",
       "    <tr>\n",
       "      <th>1</th>\n",
       "      <td>193.60</td>\n",
       "      <td>1</td>\n",
       "      <td>0</td>\n",
       "      <td>1</td>\n",
       "      <td>0</td>\n",
       "      <td>1</td>\n",
       "      <td>0</td>\n",
       "      <td>1</td>\n",
       "      <td>0</td>\n",
       "      <td>0</td>\n",
       "      <td>...</td>\n",
       "      <td>0</td>\n",
       "      <td>1</td>\n",
       "      <td>0</td>\n",
       "      <td>0</td>\n",
       "      <td>0</td>\n",
       "      <td>1</td>\n",
       "      <td>0</td>\n",
       "      <td>0</td>\n",
       "      <td>0</td>\n",
       "      <td>1</td>\n",
       "    </tr>\n",
       "    <tr>\n",
       "      <th>2</th>\n",
       "      <td>1238.65</td>\n",
       "      <td>0</td>\n",
       "      <td>1</td>\n",
       "      <td>1</td>\n",
       "      <td>0</td>\n",
       "      <td>1</td>\n",
       "      <td>0</td>\n",
       "      <td>0</td>\n",
       "      <td>1</td>\n",
       "      <td>0</td>\n",
       "      <td>...</td>\n",
       "      <td>0</td>\n",
       "      <td>1</td>\n",
       "      <td>0</td>\n",
       "      <td>0</td>\n",
       "      <td>0</td>\n",
       "      <td>1</td>\n",
       "      <td>0</td>\n",
       "      <td>1</td>\n",
       "      <td>0</td>\n",
       "      <td>0</td>\n",
       "    </tr>\n",
       "    <tr>\n",
       "      <th>3</th>\n",
       "      <td>5124.60</td>\n",
       "      <td>0</td>\n",
       "      <td>1</td>\n",
       "      <td>1</td>\n",
       "      <td>0</td>\n",
       "      <td>1</td>\n",
       "      <td>0</td>\n",
       "      <td>1</td>\n",
       "      <td>0</td>\n",
       "      <td>0</td>\n",
       "      <td>...</td>\n",
       "      <td>0</td>\n",
       "      <td>1</td>\n",
       "      <td>0</td>\n",
       "      <td>0</td>\n",
       "      <td>1</td>\n",
       "      <td>0</td>\n",
       "      <td>0</td>\n",
       "      <td>1</td>\n",
       "      <td>0</td>\n",
       "      <td>0</td>\n",
       "    </tr>\n",
       "    <tr>\n",
       "      <th>4</th>\n",
       "      <td>723.40</td>\n",
       "      <td>1</td>\n",
       "      <td>0</td>\n",
       "      <td>1</td>\n",
       "      <td>0</td>\n",
       "      <td>1</td>\n",
       "      <td>0</td>\n",
       "      <td>1</td>\n",
       "      <td>0</td>\n",
       "      <td>0</td>\n",
       "      <td>...</td>\n",
       "      <td>0</td>\n",
       "      <td>1</td>\n",
       "      <td>0</td>\n",
       "      <td>0</td>\n",
       "      <td>1</td>\n",
       "      <td>0</td>\n",
       "      <td>0</td>\n",
       "      <td>0</td>\n",
       "      <td>0</td>\n",
       "      <td>1</td>\n",
       "    </tr>\n",
       "  </tbody>\n",
       "</table>\n",
       "<p>5 rows × 48 columns</p>\n",
       "</div>"
      ],
      "text/plain": [
       "   TotalCharges  gender_Female  gender_Male  SeniorCitizen_0  SeniorCitizen_1  \\\n",
       "0       3784.00              1            0                1                0   \n",
       "1        193.60              1            0                1                0   \n",
       "2       1238.65              0            1                1                0   \n",
       "3       5124.60              0            1                1                0   \n",
       "4        723.40              1            0                1                0   \n",
       "\n",
       "   Partner_No  Partner_Yes  Dependents_No  Dependents_Yes  PhoneService_No  \\\n",
       "0           0            1              0               1                1   \n",
       "1           1            0              1               0                0   \n",
       "2           1            0              0               1                0   \n",
       "3           1            0              1               0                0   \n",
       "4           1            0              1               0                0   \n",
       "\n",
       "   ...  PaperlessBilling_No  PaperlessBilling_Yes  \\\n",
       "0  ...                    1                     0   \n",
       "1  ...                    0                     1   \n",
       "2  ...                    0                     1   \n",
       "3  ...                    0                     1   \n",
       "4  ...                    0                     1   \n",
       "\n",
       "   PaymentMethod_Bank transfer (automatic)  \\\n",
       "0                                        0   \n",
       "1                                        0   \n",
       "2                                        0   \n",
       "3                                        0   \n",
       "4                                        0   \n",
       "\n",
       "   PaymentMethod_Credit card (automatic)  PaymentMethod_Electronic check  \\\n",
       "0                                      1                               0   \n",
       "1                                      0                               0   \n",
       "2                                      0                               0   \n",
       "3                                      0                               1   \n",
       "4                                      0                               1   \n",
       "\n",
       "   PaymentMethod_Mailed check  tenure_bucket_long  tenure_bucket_medium  \\\n",
       "0                           0                   1                     0   \n",
       "1                           1                   0                     0   \n",
       "2                           1                   0                     1   \n",
       "3                           0                   0                     1   \n",
       "4                           0                   0                     0   \n",
       "\n",
       "   tenure_bucket_moderate  tenure_bucket_short  \n",
       "0                       0                    0  \n",
       "1                       0                    1  \n",
       "2                       0                    0  \n",
       "3                       0                    0  \n",
       "4                       0                    1  \n",
       "\n",
       "[5 rows x 48 columns]"
      ]
     },
     "execution_count": 11,
     "metadata": {},
     "output_type": "execute_result"
    }
   ],
   "source": [
    "# One hot encoding on predictors\n",
    "X=pd.get_dummies(X)\n",
    "X.head()"
   ]
  },
  {
   "cell_type": "code",
   "execution_count": 12,
   "id": "64c72ac5",
   "metadata": {
    "execution": {
     "iopub.execute_input": "2022-11-08T15:30:05.601499Z",
     "iopub.status.busy": "2022-11-08T15:30:05.600619Z",
     "iopub.status.idle": "2022-11-08T15:30:05.612397Z",
     "shell.execute_reply": "2022-11-08T15:30:05.611455Z"
    },
    "papermill": {
     "duration": 0.026971,
     "end_time": "2022-11-08T15:30:05.614916",
     "exception": false,
     "start_time": "2022-11-08T15:30:05.587945",
     "status": "completed"
    },
    "tags": []
   },
   "outputs": [],
   "source": [
    "# Execute Train and Test split, using Stratified sampling\n",
    "X_train,X_test,y_train,y_test=train_test_split(X,y,test_size=0.20,random_state=400,stratify=y)"
   ]
  },
  {
   "cell_type": "markdown",
   "id": "ff52a0b3",
   "metadata": {
    "papermill": {
     "duration": 0.010365,
     "end_time": "2022-11-08T15:30:05.636007",
     "exception": false,
     "start_time": "2022-11-08T15:30:05.625642",
     "status": "completed"
    },
    "tags": []
   },
   "source": [
    "# 5/Execute ML Model - ADABOOST"
   ]
  },
  {
   "cell_type": "code",
   "execution_count": 13,
   "id": "3d296686",
   "metadata": {
    "execution": {
     "iopub.execute_input": "2022-11-08T15:30:05.658682Z",
     "iopub.status.busy": "2022-11-08T15:30:05.658270Z",
     "iopub.status.idle": "2022-11-08T15:30:05.663409Z",
     "shell.execute_reply": "2022-11-08T15:30:05.662335Z"
    },
    "papermill": {
     "duration": 0.019251,
     "end_time": "2022-11-08T15:30:05.665754",
     "exception": false,
     "start_time": "2022-11-08T15:30:05.646503",
     "status": "completed"
    },
    "tags": []
   },
   "outputs": [],
   "source": [
    "# Establish the model\n",
    "clf=AdaBoostClassifier(random_state=400)"
   ]
  },
  {
   "cell_type": "code",
   "execution_count": 14,
   "id": "1788e81b",
   "metadata": {
    "execution": {
     "iopub.execute_input": "2022-11-08T15:30:05.688814Z",
     "iopub.status.busy": "2022-11-08T15:30:05.688364Z",
     "iopub.status.idle": "2022-11-08T15:30:06.015494Z",
     "shell.execute_reply": "2022-11-08T15:30:06.014215Z"
    },
    "papermill": {
     "duration": 0.341665,
     "end_time": "2022-11-08T15:30:06.018093",
     "exception": false,
     "start_time": "2022-11-08T15:30:05.676428",
     "status": "completed"
    },
    "tags": []
   },
   "outputs": [
    {
     "data": {
      "text/plain": [
       "AdaBoostClassifier(random_state=400)"
      ]
     },
     "execution_count": 14,
     "metadata": {},
     "output_type": "execute_result"
    }
   ],
   "source": [
    "clf.fit(X_train, y_train)"
   ]
  },
  {
   "cell_type": "code",
   "execution_count": 15,
   "id": "c3c24699",
   "metadata": {
    "execution": {
     "iopub.execute_input": "2022-11-08T15:30:06.041975Z",
     "iopub.status.busy": "2022-11-08T15:30:06.041546Z",
     "iopub.status.idle": "2022-11-08T15:30:06.072091Z",
     "shell.execute_reply": "2022-11-08T15:30:06.070922Z"
    },
    "papermill": {
     "duration": 0.045518,
     "end_time": "2022-11-08T15:30:06.074659",
     "exception": false,
     "start_time": "2022-11-08T15:30:06.029141",
     "status": "completed"
    },
    "tags": []
   },
   "outputs": [
    {
     "data": {
      "text/plain": [
       "0.8174077578051088"
      ]
     },
     "execution_count": 15,
     "metadata": {},
     "output_type": "execute_result"
    }
   ],
   "source": [
    "# Check how the model performed on Train dataset\n",
    "clf.score(X_test,y_test)"
   ]
  },
  {
   "cell_type": "code",
   "execution_count": 16,
   "id": "d3571549",
   "metadata": {
    "execution": {
     "iopub.execute_input": "2022-11-08T15:30:06.098746Z",
     "iopub.status.busy": "2022-11-08T15:30:06.098321Z",
     "iopub.status.idle": "2022-11-08T15:30:06.102736Z",
     "shell.execute_reply": "2022-11-08T15:30:06.101819Z"
    },
    "papermill": {
     "duration": 0.019483,
     "end_time": "2022-11-08T15:30:06.104855",
     "exception": false,
     "start_time": "2022-11-08T15:30:06.085372",
     "status": "completed"
    },
    "tags": []
   },
   "outputs": [],
   "source": [
    "# Using n_estimator for basic search\n",
    "#mod=GridSearchCV(clf,param_grid={'n_estimators':[80,100,120,140,160,180]},n_jobs=-1,scoring='accuracy')\n",
    "# For the optimum value of hyperparameter into Train dataset\n",
    "#mod.fit(X_train,y_train)"
   ]
  },
  {
   "cell_type": "code",
   "execution_count": 17,
   "id": "24d8a1f0",
   "metadata": {
    "execution": {
     "iopub.execute_input": "2022-11-08T15:30:06.128052Z",
     "iopub.status.busy": "2022-11-08T15:30:06.127643Z",
     "iopub.status.idle": "2022-11-08T15:30:06.134443Z",
     "shell.execute_reply": "2022-11-08T15:30:06.133367Z"
    },
    "papermill": {
     "duration": 0.02123,
     "end_time": "2022-11-08T15:30:06.136697",
     "exception": false,
     "start_time": "2022-11-08T15:30:06.115467",
     "status": "completed"
    },
    "tags": []
   },
   "outputs": [
    {
     "data": {
      "text/plain": [
       "AdaBoostClassifier(random_state=400)"
      ]
     },
     "execution_count": 17,
     "metadata": {},
     "output_type": "execute_result"
    }
   ],
   "source": [
    "# Get the best estimator printed\n",
    "#best_estimator = mod.best_estimator_\n",
    "best_estimator = clf\n",
    "best_estimator"
   ]
  },
  {
   "cell_type": "code",
   "execution_count": 18,
   "id": "cb916f73",
   "metadata": {
    "execution": {
     "iopub.execute_input": "2022-11-08T15:30:06.161592Z",
     "iopub.status.busy": "2022-11-08T15:30:06.161168Z",
     "iopub.status.idle": "2022-11-08T15:30:06.192525Z",
     "shell.execute_reply": "2022-11-08T15:30:06.191398Z"
    },
    "papermill": {
     "duration": 0.047005,
     "end_time": "2022-11-08T15:30:06.195145",
     "exception": false,
     "start_time": "2022-11-08T15:30:06.148140",
     "status": "completed"
    },
    "tags": []
   },
   "outputs": [
    {
     "data": {
      "text/plain": [
       "0.8174077578051088"
      ]
     },
     "execution_count": 18,
     "metadata": {},
     "output_type": "execute_result"
    }
   ],
   "source": [
    "best_estimator.score(X_test,y_test)"
   ]
  },
  {
   "cell_type": "markdown",
   "id": "c35b6fe5",
   "metadata": {
    "papermill": {
     "duration": 0.010805,
     "end_time": "2022-11-08T15:30:06.217103",
     "exception": false,
     "start_time": "2022-11-08T15:30:06.206298",
     "status": "completed"
    },
    "tags": []
   },
   "source": [
    "# 6/Predict target variable using ML Model"
   ]
  },
  {
   "cell_type": "code",
   "execution_count": 19,
   "id": "05227e35",
   "metadata": {
    "execution": {
     "iopub.execute_input": "2022-11-08T15:30:06.241183Z",
     "iopub.status.busy": "2022-11-08T15:30:06.240737Z",
     "iopub.status.idle": "2022-11-08T15:30:06.322598Z",
     "shell.execute_reply": "2022-11-08T15:30:06.321294Z"
    },
    "papermill": {
     "duration": 0.097083,
     "end_time": "2022-11-08T15:30:06.325424",
     "exception": false,
     "start_time": "2022-11-08T15:30:06.228341",
     "status": "completed"
    },
    "tags": []
   },
   "outputs": [],
   "source": [
    "y_train_predicted = best_estimator.predict(X_train)\n",
    "y_test_predicted = best_estimator.predict(X_test)"
   ]
  },
  {
   "cell_type": "code",
   "execution_count": 20,
   "id": "63c0cc93",
   "metadata": {
    "execution": {
     "iopub.execute_input": "2022-11-08T15:30:06.350047Z",
     "iopub.status.busy": "2022-11-08T15:30:06.349630Z",
     "iopub.status.idle": "2022-11-08T15:30:06.378111Z",
     "shell.execute_reply": "2022-11-08T15:30:06.376597Z"
    },
    "papermill": {
     "duration": 0.044009,
     "end_time": "2022-11-08T15:30:06.380633",
     "exception": false,
     "start_time": "2022-11-08T15:30:06.336624",
     "status": "completed"
    },
    "tags": []
   },
   "outputs": [
    {
     "name": "stdout",
     "output_type": "stream",
     "text": [
      "              precision    recall  f1-score   support\n",
      "\n",
      "           0       0.85      0.91      0.88      3104\n",
      "           1       0.68      0.56      0.61      1121\n",
      "\n",
      "    accuracy                           0.81      4225\n",
      "   macro avg       0.77      0.73      0.75      4225\n",
      "weighted avg       0.81      0.81      0.81      4225\n",
      "\n",
      "AUC = 0.7320178216706364\n",
      "              precision    recall  f1-score   support\n",
      "\n",
      "           0       0.86      0.90      0.88       776\n",
      "           1       0.69      0.58      0.63       281\n",
      "\n",
      "    accuracy                           0.82      1057\n",
      "   macro avg       0.77      0.74      0.75      1057\n",
      "weighted avg       0.81      0.82      0.81      1057\n",
      "\n",
      "AUC = 0.7405758153868732\n"
     ]
    }
   ],
   "source": [
    "# Check performance\n",
    "from sklearn import metrics\n",
    "\n",
    "print(classification_report(y_train, y_train_predicted))\n",
    "print('AUC =',metrics.roc_auc_score(y_train, y_train_predicted))\n",
    "\n",
    "print(classification_report(y_test, y_test_predicted))\n",
    "print('AUC =',metrics.roc_auc_score(y_test, y_test_predicted))"
   ]
  },
  {
   "cell_type": "markdown",
   "id": "4b10d97c",
   "metadata": {
    "papermill": {
     "duration": 0.01161,
     "end_time": "2022-11-08T15:30:06.403810",
     "exception": false,
     "start_time": "2022-11-08T15:30:06.392200",
     "status": "completed"
    },
    "tags": []
   },
   "source": [
    "# 7/Load Test dataset"
   ]
  },
  {
   "cell_type": "code",
   "execution_count": 21,
   "id": "d79c62c2",
   "metadata": {
    "execution": {
     "iopub.execute_input": "2022-11-08T15:30:06.430817Z",
     "iopub.status.busy": "2022-11-08T15:30:06.429027Z",
     "iopub.status.idle": "2022-11-08T15:30:06.461544Z",
     "shell.execute_reply": "2022-11-08T15:30:06.460245Z"
    },
    "papermill": {
     "duration": 0.048783,
     "end_time": "2022-11-08T15:30:06.464152",
     "exception": false,
     "start_time": "2022-11-08T15:30:06.415369",
     "status": "completed"
    },
    "tags": []
   },
   "outputs": [
    {
     "data": {
      "text/plain": [
       "customerID          0\n",
       "gender              0\n",
       "SeniorCitizen       0\n",
       "Partner             0\n",
       "Dependents          0\n",
       "tenure              0\n",
       "PhoneService        0\n",
       "MultipleLines       0\n",
       "InternetService     0\n",
       "OnlineSecurity      0\n",
       "OnlineBackup        0\n",
       "DeviceProtection    0\n",
       "TechSupport         0\n",
       "StreamingTV         0\n",
       "StreamingMovies     0\n",
       "Contract            0\n",
       "PaperlessBilling    0\n",
       "PaymentMethod       0\n",
       "MonthlyCharges      0\n",
       "TotalCharges        3\n",
       "dtype: int64"
      ]
     },
     "execution_count": 21,
     "metadata": {},
     "output_type": "execute_result"
    }
   ],
   "source": [
    "# Load original\n",
    "test = pd.read_csv('../input/ipba-12-unext-jigsaw-classification-case-study/test.csv',na_values=\" \")\n",
    "# Create a copy\n",
    "test1 = test\n",
    "# Look for NAs\n",
    "test1.isnull().sum()"
   ]
  },
  {
   "cell_type": "code",
   "execution_count": 22,
   "id": "4128ed5e",
   "metadata": {
    "execution": {
     "iopub.execute_input": "2022-11-08T15:30:06.489489Z",
     "iopub.status.busy": "2022-11-08T15:30:06.488480Z",
     "iopub.status.idle": "2022-11-08T15:30:06.500807Z",
     "shell.execute_reply": "2022-11-08T15:30:06.499730Z"
    },
    "papermill": {
     "duration": 0.027848,
     "end_time": "2022-11-08T15:30:06.503365",
     "exception": false,
     "start_time": "2022-11-08T15:30:06.475517",
     "status": "completed"
    },
    "tags": []
   },
   "outputs": [
    {
     "data": {
      "text/plain": [
       "customerID          0\n",
       "gender              0\n",
       "SeniorCitizen       0\n",
       "Partner             0\n",
       "Dependents          0\n",
       "tenure              0\n",
       "PhoneService        0\n",
       "MultipleLines       0\n",
       "InternetService     0\n",
       "OnlineSecurity      0\n",
       "OnlineBackup        0\n",
       "DeviceProtection    0\n",
       "TechSupport         0\n",
       "StreamingTV         0\n",
       "StreamingMovies     0\n",
       "Contract            0\n",
       "PaperlessBilling    0\n",
       "PaymentMethod       0\n",
       "MonthlyCharges      0\n",
       "TotalCharges        0\n",
       "dtype: int64"
      ]
     },
     "execution_count": 22,
     "metadata": {},
     "output_type": "execute_result"
    }
   ],
   "source": [
    "# Treat NAs in Test dataset\n",
    "test1.TotalCharges.fillna(value=test1.TotalCharges.mean(), inplace=True)\n",
    "test1.isnull().sum()"
   ]
  },
  {
   "cell_type": "code",
   "execution_count": 23,
   "id": "4c9cb9a7",
   "metadata": {
    "execution": {
     "iopub.execute_input": "2022-11-08T15:30:06.529975Z",
     "iopub.status.busy": "2022-11-08T15:30:06.529137Z",
     "iopub.status.idle": "2022-11-08T15:30:06.553345Z",
     "shell.execute_reply": "2022-11-08T15:30:06.552227Z"
    },
    "papermill": {
     "duration": 0.041367,
     "end_time": "2022-11-08T15:30:06.557061",
     "exception": false,
     "start_time": "2022-11-08T15:30:06.515694",
     "status": "completed"
    },
    "tags": []
   },
   "outputs": [
    {
     "name": "stdout",
     "output_type": "stream",
     "text": [
      "<class 'pandas.core.frame.DataFrame'>\n",
      "RangeIndex: 1761 entries, 0 to 1760\n",
      "Data columns (total 20 columns):\n",
      " #   Column            Non-Null Count  Dtype  \n",
      "---  ------            --------------  -----  \n",
      " 0   customerID        1761 non-null   object \n",
      " 1   gender            1761 non-null   object \n",
      " 2   SeniorCitizen     1761 non-null   int64  \n",
      " 3   Partner           1761 non-null   object \n",
      " 4   Dependents        1761 non-null   object \n",
      " 5   tenure            1761 non-null   int64  \n",
      " 6   PhoneService      1761 non-null   object \n",
      " 7   MultipleLines     1761 non-null   object \n",
      " 8   InternetService   1761 non-null   object \n",
      " 9   OnlineSecurity    1761 non-null   object \n",
      " 10  OnlineBackup      1761 non-null   object \n",
      " 11  DeviceProtection  1761 non-null   object \n",
      " 12  TechSupport       1761 non-null   object \n",
      " 13  StreamingTV       1761 non-null   object \n",
      " 14  StreamingMovies   1761 non-null   object \n",
      " 15  Contract          1761 non-null   object \n",
      " 16  PaperlessBilling  1761 non-null   object \n",
      " 17  PaymentMethod     1761 non-null   object \n",
      " 18  MonthlyCharges    1761 non-null   float64\n",
      " 19  TotalCharges      1761 non-null   float64\n",
      "dtypes: float64(2), int64(2), object(16)\n",
      "memory usage: 275.3+ KB\n",
      "<class 'pandas.core.frame.DataFrame'>\n",
      "RangeIndex: 1761 entries, 0 to 1760\n",
      "Data columns (total 20 columns):\n",
      " #   Column            Non-Null Count  Dtype  \n",
      "---  ------            --------------  -----  \n",
      " 0   customerID        1761 non-null   object \n",
      " 1   gender            1761 non-null   object \n",
      " 2   SeniorCitizen     1761 non-null   object \n",
      " 3   Partner           1761 non-null   object \n",
      " 4   Dependents        1761 non-null   object \n",
      " 5   tenure            1761 non-null   int64  \n",
      " 6   PhoneService      1761 non-null   object \n",
      " 7   MultipleLines     1761 non-null   object \n",
      " 8   InternetService   1761 non-null   object \n",
      " 9   OnlineSecurity    1761 non-null   object \n",
      " 10  OnlineBackup      1761 non-null   object \n",
      " 11  DeviceProtection  1761 non-null   object \n",
      " 12  TechSupport       1761 non-null   object \n",
      " 13  StreamingTV       1761 non-null   object \n",
      " 14  StreamingMovies   1761 non-null   object \n",
      " 15  Contract          1761 non-null   object \n",
      " 16  PaperlessBilling  1761 non-null   object \n",
      " 17  PaymentMethod     1761 non-null   object \n",
      " 18  MonthlyCharges    1761 non-null   float64\n",
      " 19  TotalCharges      1761 non-null   float64\n",
      "dtypes: float64(2), int64(1), object(17)\n",
      "memory usage: 275.3+ KB\n"
     ]
    }
   ],
   "source": [
    "# Create proper data types on predictors\n",
    "test1.info()\n",
    "test1.SeniorCitizen = test1.SeniorCitizen.astype(object)\n",
    "test1.info()"
   ]
  },
  {
   "cell_type": "code",
   "execution_count": 24,
   "id": "334c1653",
   "metadata": {
    "execution": {
     "iopub.execute_input": "2022-11-08T15:30:06.582702Z",
     "iopub.status.busy": "2022-11-08T15:30:06.581901Z",
     "iopub.status.idle": "2022-11-08T15:30:06.596005Z",
     "shell.execute_reply": "2022-11-08T15:30:06.594865Z"
    },
    "papermill": {
     "duration": 0.029447,
     "end_time": "2022-11-08T15:30:06.598458",
     "exception": false,
     "start_time": "2022-11-08T15:30:06.569011",
     "status": "completed"
    },
    "tags": []
   },
   "outputs": [
    {
     "data": {
      "text/plain": [
       "short       710\n",
       "moderate    358\n",
       "medium      347\n",
       "long        346\n",
       "Name: tenure_bucket, dtype: int64"
      ]
     },
     "execution_count": 24,
     "metadata": {},
     "output_type": "execute_result"
    }
   ],
   "source": [
    "# Create a list of conditions for bucketing\n",
    "condition = [\n",
    "    (test1['tenure'] <= 20),\n",
    "    (test1['tenure'] > 20) & (test1['tenure'] <= 40),\n",
    "    (test1['tenure'] > 40) & (test1['tenure'] <= 60),\n",
    "    (test1['tenure'] > 60)\n",
    "]\n",
    "\n",
    "# Create list of categorical values related to these conditions\n",
    "values = ['short','moderate','medium','long']\n",
    "\n",
    "# Create a new column\n",
    "test1['tenure_bucket'] = np.select(condition,values)\n",
    "test1['tenure_bucket'].value_counts()"
   ]
  },
  {
   "cell_type": "markdown",
   "id": "5bc12156",
   "metadata": {
    "papermill": {
     "duration": 0.011129,
     "end_time": "2022-11-08T15:30:06.620872",
     "exception": false,
     "start_time": "2022-11-08T15:30:06.609743",
     "status": "completed"
    },
    "tags": []
   },
   "source": [
    "# 8/Prepare Test dataset for Adaboost ML model"
   ]
  },
  {
   "cell_type": "code",
   "execution_count": 25,
   "id": "5d68dadd",
   "metadata": {
    "execution": {
     "iopub.execute_input": "2022-11-08T15:30:06.645826Z",
     "iopub.status.busy": "2022-11-08T15:30:06.645020Z",
     "iopub.status.idle": "2022-11-08T15:30:06.685170Z",
     "shell.execute_reply": "2022-11-08T15:30:06.683851Z"
    },
    "papermill": {
     "duration": 0.055417,
     "end_time": "2022-11-08T15:30:06.687641",
     "exception": false,
     "start_time": "2022-11-08T15:30:06.632224",
     "status": "completed"
    },
    "tags": []
   },
   "outputs": [
    {
     "data": {
      "text/html": [
       "<div>\n",
       "<style scoped>\n",
       "    .dataframe tbody tr th:only-of-type {\n",
       "        vertical-align: middle;\n",
       "    }\n",
       "\n",
       "    .dataframe tbody tr th {\n",
       "        vertical-align: top;\n",
       "    }\n",
       "\n",
       "    .dataframe thead th {\n",
       "        text-align: right;\n",
       "    }\n",
       "</style>\n",
       "<table border=\"1\" class=\"dataframe\">\n",
       "  <thead>\n",
       "    <tr style=\"text-align: right;\">\n",
       "      <th></th>\n",
       "      <th>TotalCharges</th>\n",
       "      <th>gender_Female</th>\n",
       "      <th>gender_Male</th>\n",
       "      <th>SeniorCitizen_0</th>\n",
       "      <th>SeniorCitizen_1</th>\n",
       "      <th>Partner_No</th>\n",
       "      <th>Partner_Yes</th>\n",
       "      <th>Dependents_No</th>\n",
       "      <th>Dependents_Yes</th>\n",
       "      <th>PhoneService_No</th>\n",
       "      <th>...</th>\n",
       "      <th>PaperlessBilling_No</th>\n",
       "      <th>PaperlessBilling_Yes</th>\n",
       "      <th>PaymentMethod_Bank transfer (automatic)</th>\n",
       "      <th>PaymentMethod_Credit card (automatic)</th>\n",
       "      <th>PaymentMethod_Electronic check</th>\n",
       "      <th>PaymentMethod_Mailed check</th>\n",
       "      <th>tenure_bucket_long</th>\n",
       "      <th>tenure_bucket_medium</th>\n",
       "      <th>tenure_bucket_moderate</th>\n",
       "      <th>tenure_bucket_short</th>\n",
       "    </tr>\n",
       "  </thead>\n",
       "  <tbody>\n",
       "    <tr>\n",
       "      <th>0</th>\n",
       "      <td>4297.6</td>\n",
       "      <td>1</td>\n",
       "      <td>0</td>\n",
       "      <td>1</td>\n",
       "      <td>0</td>\n",
       "      <td>1</td>\n",
       "      <td>0</td>\n",
       "      <td>1</td>\n",
       "      <td>0</td>\n",
       "      <td>0</td>\n",
       "      <td>...</td>\n",
       "      <td>0</td>\n",
       "      <td>1</td>\n",
       "      <td>0</td>\n",
       "      <td>0</td>\n",
       "      <td>0</td>\n",
       "      <td>1</td>\n",
       "      <td>0</td>\n",
       "      <td>1</td>\n",
       "      <td>0</td>\n",
       "      <td>0</td>\n",
       "    </tr>\n",
       "    <tr>\n",
       "      <th>1</th>\n",
       "      <td>838.5</td>\n",
       "      <td>1</td>\n",
       "      <td>0</td>\n",
       "      <td>1</td>\n",
       "      <td>0</td>\n",
       "      <td>0</td>\n",
       "      <td>1</td>\n",
       "      <td>0</td>\n",
       "      <td>1</td>\n",
       "      <td>0</td>\n",
       "      <td>...</td>\n",
       "      <td>1</td>\n",
       "      <td>0</td>\n",
       "      <td>1</td>\n",
       "      <td>0</td>\n",
       "      <td>0</td>\n",
       "      <td>0</td>\n",
       "      <td>0</td>\n",
       "      <td>0</td>\n",
       "      <td>1</td>\n",
       "      <td>0</td>\n",
       "    </tr>\n",
       "    <tr>\n",
       "      <th>2</th>\n",
       "      <td>521.0</td>\n",
       "      <td>0</td>\n",
       "      <td>1</td>\n",
       "      <td>1</td>\n",
       "      <td>0</td>\n",
       "      <td>0</td>\n",
       "      <td>1</td>\n",
       "      <td>0</td>\n",
       "      <td>1</td>\n",
       "      <td>1</td>\n",
       "      <td>...</td>\n",
       "      <td>1</td>\n",
       "      <td>0</td>\n",
       "      <td>0</td>\n",
       "      <td>1</td>\n",
       "      <td>0</td>\n",
       "      <td>0</td>\n",
       "      <td>0</td>\n",
       "      <td>0</td>\n",
       "      <td>0</td>\n",
       "      <td>1</td>\n",
       "    </tr>\n",
       "    <tr>\n",
       "      <th>3</th>\n",
       "      <td>85.0</td>\n",
       "      <td>0</td>\n",
       "      <td>1</td>\n",
       "      <td>1</td>\n",
       "      <td>0</td>\n",
       "      <td>1</td>\n",
       "      <td>0</td>\n",
       "      <td>1</td>\n",
       "      <td>0</td>\n",
       "      <td>0</td>\n",
       "      <td>...</td>\n",
       "      <td>0</td>\n",
       "      <td>1</td>\n",
       "      <td>0</td>\n",
       "      <td>0</td>\n",
       "      <td>1</td>\n",
       "      <td>0</td>\n",
       "      <td>0</td>\n",
       "      <td>0</td>\n",
       "      <td>0</td>\n",
       "      <td>1</td>\n",
       "    </tr>\n",
       "    <tr>\n",
       "      <th>4</th>\n",
       "      <td>2554.0</td>\n",
       "      <td>0</td>\n",
       "      <td>1</td>\n",
       "      <td>1</td>\n",
       "      <td>0</td>\n",
       "      <td>0</td>\n",
       "      <td>1</td>\n",
       "      <td>0</td>\n",
       "      <td>1</td>\n",
       "      <td>1</td>\n",
       "      <td>...</td>\n",
       "      <td>1</td>\n",
       "      <td>0</td>\n",
       "      <td>0</td>\n",
       "      <td>0</td>\n",
       "      <td>0</td>\n",
       "      <td>1</td>\n",
       "      <td>0</td>\n",
       "      <td>1</td>\n",
       "      <td>0</td>\n",
       "      <td>0</td>\n",
       "    </tr>\n",
       "  </tbody>\n",
       "</table>\n",
       "<p>5 rows × 48 columns</p>\n",
       "</div>"
      ],
      "text/plain": [
       "   TotalCharges  gender_Female  gender_Male  SeniorCitizen_0  SeniorCitizen_1  \\\n",
       "0        4297.6              1            0                1                0   \n",
       "1         838.5              1            0                1                0   \n",
       "2         521.0              0            1                1                0   \n",
       "3          85.0              0            1                1                0   \n",
       "4        2554.0              0            1                1                0   \n",
       "\n",
       "   Partner_No  Partner_Yes  Dependents_No  Dependents_Yes  PhoneService_No  \\\n",
       "0           1            0              1               0                0   \n",
       "1           0            1              0               1                0   \n",
       "2           0            1              0               1                1   \n",
       "3           1            0              1               0                0   \n",
       "4           0            1              0               1                1   \n",
       "\n",
       "   ...  PaperlessBilling_No  PaperlessBilling_Yes  \\\n",
       "0  ...                    0                     1   \n",
       "1  ...                    1                     0   \n",
       "2  ...                    1                     0   \n",
       "3  ...                    0                     1   \n",
       "4  ...                    1                     0   \n",
       "\n",
       "   PaymentMethod_Bank transfer (automatic)  \\\n",
       "0                                        0   \n",
       "1                                        1   \n",
       "2                                        0   \n",
       "3                                        0   \n",
       "4                                        0   \n",
       "\n",
       "   PaymentMethod_Credit card (automatic)  PaymentMethod_Electronic check  \\\n",
       "0                                      0                               0   \n",
       "1                                      0                               0   \n",
       "2                                      1                               0   \n",
       "3                                      0                               1   \n",
       "4                                      0                               0   \n",
       "\n",
       "   PaymentMethod_Mailed check  tenure_bucket_long  tenure_bucket_medium  \\\n",
       "0                           1                   0                     1   \n",
       "1                           0                   0                     0   \n",
       "2                           0                   0                     0   \n",
       "3                           0                   0                     0   \n",
       "4                           1                   0                     1   \n",
       "\n",
       "   tenure_bucket_moderate  tenure_bucket_short  \n",
       "0                       0                    0  \n",
       "1                       1                    0  \n",
       "2                       0                    1  \n",
       "3                       0                    1  \n",
       "4                       0                    0  \n",
       "\n",
       "[5 rows x 48 columns]"
      ]
     },
     "execution_count": 25,
     "metadata": {},
     "output_type": "execute_result"
    }
   ],
   "source": [
    "test1 = test1.drop(['customerID','tenure','MonthlyCharges'], axis = 1)\n",
    "test1 = pd.get_dummies(test1)\n",
    "test1.head()"
   ]
  },
  {
   "cell_type": "markdown",
   "id": "77ce3d44",
   "metadata": {
    "papermill": {
     "duration": 0.011519,
     "end_time": "2022-11-08T15:30:06.711124",
     "exception": false,
     "start_time": "2022-11-08T15:30:06.699605",
     "status": "completed"
    },
    "tags": []
   },
   "source": [
    "# 9/Predict Target variable on Test dataset using Adaboost ML model"
   ]
  },
  {
   "cell_type": "code",
   "execution_count": 26,
   "id": "3b79da58",
   "metadata": {
    "execution": {
     "iopub.execute_input": "2022-11-08T15:30:06.736414Z",
     "iopub.status.busy": "2022-11-08T15:30:06.736011Z",
     "iopub.status.idle": "2022-11-08T15:30:06.774912Z",
     "shell.execute_reply": "2022-11-08T15:30:06.773650Z"
    },
    "papermill": {
     "duration": 0.054376,
     "end_time": "2022-11-08T15:30:06.777326",
     "exception": false,
     "start_time": "2022-11-08T15:30:06.722950",
     "status": "completed"
    },
    "tags": []
   },
   "outputs": [
    {
     "data": {
      "text/plain": [
       "1761"
      ]
     },
     "execution_count": 26,
     "metadata": {},
     "output_type": "execute_result"
    }
   ],
   "source": [
    "# Fit the model and predict\n",
    "test_predicted = best_estimator.predict(test1)\n",
    "# Length of predicted values\n",
    "len(test_predicted)"
   ]
  },
  {
   "cell_type": "markdown",
   "id": "9425b4e6",
   "metadata": {
    "papermill": {
     "duration": 0.012556,
     "end_time": "2022-11-08T15:30:06.802164",
     "exception": false,
     "start_time": "2022-11-08T15:30:06.789608",
     "status": "completed"
    },
    "tags": []
   },
   "source": [
    "# 10/Create submission"
   ]
  },
  {
   "cell_type": "code",
   "execution_count": 27,
   "id": "d28c62d0",
   "metadata": {
    "execution": {
     "iopub.execute_input": "2022-11-08T15:30:06.830824Z",
     "iopub.status.busy": "2022-11-08T15:30:06.830385Z",
     "iopub.status.idle": "2022-11-08T15:30:06.842546Z",
     "shell.execute_reply": "2022-11-08T15:30:06.841696Z"
    },
    "papermill": {
     "duration": 0.029405,
     "end_time": "2022-11-08T15:30:06.844953",
     "exception": false,
     "start_time": "2022-11-08T15:30:06.815548",
     "status": "completed"
    },
    "tags": []
   },
   "outputs": [],
   "source": [
    "test['Churn'] = test_predicted\n",
    "submission = test[['customerID','Churn']]\n",
    "submission.to_csv('submission.csv',index=False)"
   ]
  }
 ],
 "metadata": {
  "kernelspec": {
   "display_name": "Python 3",
   "language": "python",
   "name": "python3"
  },
  "language_info": {
   "codemirror_mode": {
    "name": "ipython",
    "version": 3
   },
   "file_extension": ".py",
   "mimetype": "text/x-python",
   "name": "python",
   "nbconvert_exporter": "python",
   "pygments_lexer": "ipython3",
   "version": "3.7.12"
  },
  "papermill": {
   "default_parameters": {},
   "duration": 14.69844,
   "end_time": "2022-11-08T15:30:07.679274",
   "environment_variables": {},
   "exception": null,
   "input_path": "__notebook__.ipynb",
   "output_path": "__notebook__.ipynb",
   "parameters": {},
   "start_time": "2022-11-08T15:29:52.980834",
   "version": "2.3.4"
  }
 },
 "nbformat": 4,
 "nbformat_minor": 5
}
