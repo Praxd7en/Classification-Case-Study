{
 "cells": [
  {
   "cell_type": "markdown",
   "id": "bc454c92",
   "metadata": {
    "papermill": {
     "duration": 0.009039,
     "end_time": "2022-11-08T04:03:39.177454",
     "exception": false,
     "start_time": "2022-11-08T04:03:39.168415",
     "status": "completed"
    },
    "tags": []
   },
   "source": [
    "# 1 - Load Libraries"
   ]
  },
  {
   "cell_type": "code",
   "execution_count": 1,
   "id": "2ba4d03c",
   "metadata": {
    "execution": {
     "iopub.execute_input": "2022-11-08T04:03:39.196259Z",
     "iopub.status.busy": "2022-11-08T04:03:39.195535Z",
     "iopub.status.idle": "2022-11-08T04:03:40.753768Z",
     "shell.execute_reply": "2022-11-08T04:03:40.752743Z"
    },
    "papermill": {
     "duration": 1.570107,
     "end_time": "2022-11-08T04:03:40.756122",
     "exception": false,
     "start_time": "2022-11-08T04:03:39.186015",
     "status": "completed"
    },
    "tags": []
   },
   "outputs": [],
   "source": [
    "import os\n",
    "import numpy as np \n",
    "import pandas as pd \n",
    "import seaborn as sns\n",
    "\n",
    "from sklearn.model_selection import train_test_split\n",
    "from sklearn.ensemble import GradientBoostingClassifier\n",
    "from sklearn.model_selection import GridSearchCV\n",
    "from sklearn.metrics import classification_report\n"
   ]
  },
  {
   "cell_type": "markdown",
   "id": "4bfabfb6",
   "metadata": {
    "papermill": {
     "duration": 0.007504,
     "end_time": "2022-11-08T04:03:40.771725",
     "exception": false,
     "start_time": "2022-11-08T04:03:40.764221",
     "status": "completed"
    },
    "tags": []
   },
   "source": [
    "# 2 - Load Data"
   ]
  },
  {
   "cell_type": "code",
   "execution_count": 2,
   "id": "2255bdbd",
   "metadata": {
    "execution": {
     "iopub.execute_input": "2022-11-08T04:03:40.789279Z",
     "iopub.status.busy": "2022-11-08T04:03:40.788870Z",
     "iopub.status.idle": "2022-11-08T04:03:40.831466Z",
     "shell.execute_reply": "2022-11-08T04:03:40.830689Z"
    },
    "papermill": {
     "duration": 0.054068,
     "end_time": "2022-11-08T04:03:40.833687",
     "exception": false,
     "start_time": "2022-11-08T04:03:40.779619",
     "status": "completed"
    },
    "tags": []
   },
   "outputs": [],
   "source": [
    "data=pd.read_csv('../input/ipba-12-unext-jigsaw-classification-case-study/train.csv',na_values=\" \")"
   ]
  },
  {
   "cell_type": "markdown",
   "id": "20edcb1e",
   "metadata": {
    "papermill": {
     "duration": 0.007403,
     "end_time": "2022-11-08T04:03:40.850243",
     "exception": false,
     "start_time": "2022-11-08T04:03:40.842840",
     "status": "completed"
    },
    "tags": []
   },
   "source": [
    "# 3 - Data Cleaning"
   ]
  },
  {
   "cell_type": "markdown",
   "id": "8ad142d4",
   "metadata": {
    "papermill": {
     "duration": 0.007467,
     "end_time": "2022-11-08T04:03:40.865479",
     "exception": false,
     "start_time": "2022-11-08T04:03:40.858012",
     "status": "completed"
    },
    "tags": []
   },
   "source": [
    "## 3a - Find missing values and impute them"
   ]
  },
  {
   "cell_type": "code",
   "execution_count": 3,
   "id": "75f0b0e7",
   "metadata": {
    "execution": {
     "iopub.execute_input": "2022-11-08T04:03:40.883272Z",
     "iopub.status.busy": "2022-11-08T04:03:40.882690Z",
     "iopub.status.idle": "2022-11-08T04:03:40.902724Z",
     "shell.execute_reply": "2022-11-08T04:03:40.901431Z"
    },
    "papermill": {
     "duration": 0.031306,
     "end_time": "2022-11-08T04:03:40.904727",
     "exception": false,
     "start_time": "2022-11-08T04:03:40.873421",
     "status": "completed"
    },
    "tags": []
   },
   "outputs": [
    {
     "data": {
      "text/plain": [
       "customerID          0\n",
       "gender              0\n",
       "SeniorCitizen       0\n",
       "Partner             0\n",
       "Dependents          0\n",
       "tenure              0\n",
       "PhoneService        0\n",
       "MultipleLines       0\n",
       "InternetService     0\n",
       "OnlineSecurity      0\n",
       "OnlineBackup        0\n",
       "DeviceProtection    0\n",
       "TechSupport         0\n",
       "StreamingTV         0\n",
       "StreamingMovies     0\n",
       "Contract            0\n",
       "PaperlessBilling    0\n",
       "PaymentMethod       0\n",
       "MonthlyCharges      0\n",
       "TotalCharges        0\n",
       "Churn               0\n",
       "dtype: int64"
      ]
     },
     "execution_count": 3,
     "metadata": {},
     "output_type": "execute_result"
    }
   ],
   "source": [
    "data.TotalCharges = data.TotalCharges.fillna(0)\n",
    "data.isnull().sum()"
   ]
  },
  {
   "cell_type": "markdown",
   "id": "11b305d8",
   "metadata": {
    "papermill": {
     "duration": 0.008379,
     "end_time": "2022-11-08T04:03:40.921165",
     "exception": false,
     "start_time": "2022-11-08T04:03:40.912786",
     "status": "completed"
    },
    "tags": []
   },
   "source": [
    "## 3b - Set proper data type"
   ]
  },
  {
   "cell_type": "code",
   "execution_count": 4,
   "id": "1a86acfd",
   "metadata": {
    "execution": {
     "iopub.execute_input": "2022-11-08T04:03:40.939309Z",
     "iopub.status.busy": "2022-11-08T04:03:40.938346Z",
     "iopub.status.idle": "2022-11-08T04:03:40.966989Z",
     "shell.execute_reply": "2022-11-08T04:03:40.965986Z"
    },
    "papermill": {
     "duration": 0.040024,
     "end_time": "2022-11-08T04:03:40.969193",
     "exception": false,
     "start_time": "2022-11-08T04:03:40.929169",
     "status": "completed"
    },
    "tags": []
   },
   "outputs": [
    {
     "name": "stdout",
     "output_type": "stream",
     "text": [
      "<class 'pandas.core.frame.DataFrame'>\n",
      "RangeIndex: 5282 entries, 0 to 5281\n",
      "Data columns (total 21 columns):\n",
      " #   Column            Non-Null Count  Dtype  \n",
      "---  ------            --------------  -----  \n",
      " 0   customerID        5282 non-null   object \n",
      " 1   gender            5282 non-null   object \n",
      " 2   SeniorCitizen     5282 non-null   object \n",
      " 3   Partner           5282 non-null   object \n",
      " 4   Dependents        5282 non-null   object \n",
      " 5   tenure            5282 non-null   int64  \n",
      " 6   PhoneService      5282 non-null   object \n",
      " 7   MultipleLines     5282 non-null   object \n",
      " 8   InternetService   5282 non-null   object \n",
      " 9   OnlineSecurity    5282 non-null   object \n",
      " 10  OnlineBackup      5282 non-null   object \n",
      " 11  DeviceProtection  5282 non-null   object \n",
      " 12  TechSupport       5282 non-null   object \n",
      " 13  StreamingTV       5282 non-null   object \n",
      " 14  StreamingMovies   5282 non-null   object \n",
      " 15  Contract          5282 non-null   object \n",
      " 16  PaperlessBilling  5282 non-null   object \n",
      " 17  PaymentMethod     5282 non-null   object \n",
      " 18  MonthlyCharges    5282 non-null   float64\n",
      " 19  TotalCharges      5282 non-null   float64\n",
      " 20  Churn             5282 non-null   int64  \n",
      "dtypes: float64(2), int64(2), object(17)\n",
      "memory usage: 866.7+ KB\n"
     ]
    }
   ],
   "source": [
    "data.SeniorCitizen = data.SeniorCitizen.astype(object)\n",
    "data.info()"
   ]
  },
  {
   "cell_type": "markdown",
   "id": "772838cd",
   "metadata": {
    "papermill": {
     "duration": 0.007889,
     "end_time": "2022-11-08T04:03:40.985390",
     "exception": false,
     "start_time": "2022-11-08T04:03:40.977501",
     "status": "completed"
    },
    "tags": []
   },
   "source": [
    "## 3c - Find correlations between predictors"
   ]
  },
  {
   "cell_type": "code",
   "execution_count": 5,
   "id": "8baff290",
   "metadata": {
    "execution": {
     "iopub.execute_input": "2022-11-08T04:03:41.003837Z",
     "iopub.status.busy": "2022-11-08T04:03:41.003229Z",
     "iopub.status.idle": "2022-11-08T04:03:41.968700Z",
     "shell.execute_reply": "2022-11-08T04:03:41.967169Z"
    },
    "papermill": {
     "duration": 0.976997,
     "end_time": "2022-11-08T04:03:41.970768",
     "exception": false,
     "start_time": "2022-11-08T04:03:40.993771",
     "status": "completed"
    },
    "tags": []
   },
   "outputs": [
    {
     "data": {
      "text/plain": [
       "0.6547738214407784"
      ]
     },
     "execution_count": 5,
     "metadata": {},
     "output_type": "execute_result"
    },
    {
     "data": {
      "image/png": "[encoded data removed]",
      "text/plain": [
       "<Figure size 360x360 with 6 Axes>"
      ]
     },
     "metadata": {
      "needs_background": "light"
     },
     "output_type": "display_data"
    }
   ],
   "source": [
    "# High Correlation between Monthly Charges and Total charges, drop monthly charges from model\n",
    "sns.pairplot(data[[\"MonthlyCharges\",\"TotalCharges\"]])\n",
    "correlation = data['MonthlyCharges'].corr(data['TotalCharges'])\n",
    "correlation"
   ]
  },
  {
   "cell_type": "markdown",
   "id": "50cb5818",
   "metadata": {
    "papermill": {
     "duration": 0.010538,
     "end_time": "2022-11-08T04:03:41.990612",
     "exception": false,
     "start_time": "2022-11-08T04:03:41.980074",
     "status": "completed"
    },
    "tags": []
   },
   "source": [
    "## 3d - Bin integer predictors"
   ]
  },
  {
   "cell_type": "code",
   "execution_count": 6,
   "id": "d4792cc5",
   "metadata": {
    "execution": {
     "iopub.execute_input": "2022-11-08T04:03:42.015292Z",
     "iopub.status.busy": "2022-11-08T04:03:42.013991Z",
     "iopub.status.idle": "2022-11-08T04:03:42.395971Z",
     "shell.execute_reply": "2022-11-08T04:03:42.394275Z"
    },
    "papermill": {
     "duration": 0.396896,
     "end_time": "2022-11-08T04:03:42.398666",
     "exception": false,
     "start_time": "2022-11-08T04:03:42.001770",
     "status": "completed"
    },
    "tags": []
   },
   "outputs": [
    {
     "data": {
      "text/plain": [
       "<seaborn.axisgrid.FacetGrid at 0x7fbb520c9dd0>"
      ]
     },
     "execution_count": 6,
     "metadata": {},
     "output_type": "execute_result"
    },
    {
     "data": {
      "image/png": "[encoded data removed]",
      "text/plain": [
       "<Figure size 402.375x360 with 1 Axes>"
      ]
     },
     "metadata": {
      "needs_background": "light"
     },
     "output_type": "display_data"
    }
   ],
   "source": [
    "# Plot tenure to identify distribution against churn\n",
    "sns.displot(data, x=\"tenure\", hue=\"Churn\", multiple=\"dodge\")"
   ]
  },
  {
   "cell_type": "code",
   "execution_count": 7,
   "id": "cb9a1831",
   "metadata": {
    "execution": {
     "iopub.execute_input": "2022-11-08T04:03:42.419421Z",
     "iopub.status.busy": "2022-11-08T04:03:42.419042Z",
     "iopub.status.idle": "2022-11-08T04:03:42.434862Z",
     "shell.execute_reply": "2022-11-08T04:03:42.433181Z"
    },
    "papermill": {
     "duration": 0.028936,
     "end_time": "2022-11-08T04:03:42.437437",
     "exception": false,
     "start_time": "2022-11-08T04:03:42.408501",
     "status": "completed"
    },
    "tags": []
   },
   "outputs": [
    {
     "data": {
      "text/plain": [
       "short       2168\n",
       "long        1061\n",
       "moderate    1050\n",
       "medium      1003\n",
       "Name: tenure_bucket, dtype: int64"
      ]
     },
     "execution_count": 7,
     "metadata": {},
     "output_type": "execute_result"
    }
   ],
   "source": [
    "# Binning tenure for effecient model\n",
    "condition = [\n",
    "    (data['tenure'] <= 20),\n",
    "    (data['tenure'] > 20) & (data['tenure'] <= 40),\n",
    "    (data['tenure'] > 40) & (data['tenure'] <= 60),\n",
    "    (data['tenure'] > 60)\n",
    "]\n",
    "\n",
    "# Create list of categorical values related to these conditions\n",
    "values = ['short','moderate','medium','long']\n",
    "\n",
    "# Create a new column\n",
    "data['tenure_bucket'] = np.select(condition,values)\n",
    "data['tenure_bucket'].value_counts()"
   ]
  },
  {
   "cell_type": "markdown",
   "id": "5ea074ee",
   "metadata": {
    "papermill": {
     "duration": 0.009986,
     "end_time": "2022-11-08T04:03:42.457381",
     "exception": false,
     "start_time": "2022-11-08T04:03:42.447395",
     "status": "completed"
    },
    "tags": []
   },
   "source": [
    "# 4 - Prepare for train - test split"
   ]
  },
  {
   "cell_type": "markdown",
   "id": "ce7b064a",
   "metadata": {
    "papermill": {
     "duration": 0.009711,
     "end_time": "2022-11-08T04:03:42.478077",
     "exception": false,
     "start_time": "2022-11-08T04:03:42.468366",
     "status": "completed"
    },
    "tags": []
   },
   "source": [
    "## Removing following variables from X - \n",
    "- 'customerID' - Not needed for prediction\n",
    "- 'Churn' - To make target variable\n",
    "- 'tenure' - Binned into relevant categories\n",
    "- 'gender' - Not contributing to the classification\n",
    "- 'Dependents' - Not contributing to the classification\n",
    "- 'MonthlyCharges' - Dropped as high correlation with 'TotalCharges'"
   ]
  },
  {
   "cell_type": "code",
   "execution_count": 8,
   "id": "6fcefa08",
   "metadata": {
    "execution": {
     "iopub.execute_input": "2022-11-08T04:03:42.499230Z",
     "iopub.status.busy": "2022-11-08T04:03:42.498822Z",
     "iopub.status.idle": "2022-11-08T04:03:42.508714Z",
     "shell.execute_reply": "2022-11-08T04:03:42.507369Z"
    },
    "papermill": {
     "duration": 0.023373,
     "end_time": "2022-11-08T04:03:42.511325",
     "exception": false,
     "start_time": "2022-11-08T04:03:42.487952",
     "status": "completed"
    },
    "tags": []
   },
   "outputs": [],
   "source": [
    "y = data['Churn']\n",
    "X = data.drop(['customerID','Churn','tenure','gender','Dependents','MonthlyCharges'], axis = 1)"
   ]
  },
  {
   "cell_type": "code",
   "execution_count": 9,
   "id": "db466ea5",
   "metadata": {
    "execution": {
     "iopub.execute_input": "2022-11-08T04:03:42.533145Z",
     "iopub.status.busy": "2022-11-08T04:03:42.532511Z",
     "iopub.status.idle": "2022-11-08T04:03:42.584014Z",
     "shell.execute_reply": "2022-11-08T04:03:42.583088Z"
    },
    "papermill": {
     "duration": 0.064932,
     "end_time": "2022-11-08T04:03:42.586137",
     "exception": false,
     "start_time": "2022-11-08T04:03:42.521205",
     "status": "completed"
    },
    "tags": []
   },
   "outputs": [
    {
     "data": {
      "text/html": [
       "<div>\n",
       "<style scoped>\n",
       "    .dataframe tbody tr th:only-of-type {\n",
       "        vertical-align: middle;\n",
       "    }\n",
       "\n",
       "    .dataframe tbody tr th {\n",
       "        vertical-align: top;\n",
       "    }\n",
       "\n",
       "    .dataframe thead th {\n",
       "        text-align: right;\n",
       "    }\n",
       "</style>\n",
       "<table border=\"1\" class=\"dataframe\">\n",
       "  <thead>\n",
       "    <tr style=\"text-align: right;\">\n",
       "      <th></th>\n",
       "      <th>TotalCharges</th>\n",
       "      <th>SeniorCitizen_0</th>\n",
       "      <th>SeniorCitizen_1</th>\n",
       "      <th>Partner_No</th>\n",
       "      <th>Partner_Yes</th>\n",
       "      <th>PhoneService_No</th>\n",
       "      <th>PhoneService_Yes</th>\n",
       "      <th>MultipleLines_No</th>\n",
       "      <th>MultipleLines_No phone service</th>\n",
       "      <th>MultipleLines_Yes</th>\n",
       "      <th>...</th>\n",
       "      <th>PaperlessBilling_No</th>\n",
       "      <th>PaperlessBilling_Yes</th>\n",
       "      <th>PaymentMethod_Bank transfer (automatic)</th>\n",
       "      <th>PaymentMethod_Credit card (automatic)</th>\n",
       "      <th>PaymentMethod_Electronic check</th>\n",
       "      <th>PaymentMethod_Mailed check</th>\n",
       "      <th>tenure_bucket_long</th>\n",
       "      <th>tenure_bucket_medium</th>\n",
       "      <th>tenure_bucket_moderate</th>\n",
       "      <th>tenure_bucket_short</th>\n",
       "    </tr>\n",
       "  </thead>\n",
       "  <tbody>\n",
       "    <tr>\n",
       "      <th>0</th>\n",
       "      <td>3784.00</td>\n",
       "      <td>1</td>\n",
       "      <td>0</td>\n",
       "      <td>0</td>\n",
       "      <td>1</td>\n",
       "      <td>1</td>\n",
       "      <td>0</td>\n",
       "      <td>0</td>\n",
       "      <td>1</td>\n",
       "      <td>0</td>\n",
       "      <td>...</td>\n",
       "      <td>1</td>\n",
       "      <td>0</td>\n",
       "      <td>0</td>\n",
       "      <td>1</td>\n",
       "      <td>0</td>\n",
       "      <td>0</td>\n",
       "      <td>1</td>\n",
       "      <td>0</td>\n",
       "      <td>0</td>\n",
       "      <td>0</td>\n",
       "    </tr>\n",
       "    <tr>\n",
       "      <th>1</th>\n",
       "      <td>193.60</td>\n",
       "      <td>1</td>\n",
       "      <td>0</td>\n",
       "      <td>1</td>\n",
       "      <td>0</td>\n",
       "      <td>0</td>\n",
       "      <td>1</td>\n",
       "      <td>1</td>\n",
       "      <td>0</td>\n",
       "      <td>0</td>\n",
       "      <td>...</td>\n",
       "      <td>0</td>\n",
       "      <td>1</td>\n",
       "      <td>0</td>\n",
       "      <td>0</td>\n",
       "      <td>0</td>\n",
       "      <td>1</td>\n",
       "      <td>0</td>\n",
       "      <td>0</td>\n",
       "      <td>0</td>\n",
       "      <td>1</td>\n",
       "    </tr>\n",
       "    <tr>\n",
       "      <th>2</th>\n",
       "      <td>1238.65</td>\n",
       "      <td>1</td>\n",
       "      <td>0</td>\n",
       "      <td>1</td>\n",
       "      <td>0</td>\n",
       "      <td>0</td>\n",
       "      <td>1</td>\n",
       "      <td>1</td>\n",
       "      <td>0</td>\n",
       "      <td>0</td>\n",
       "      <td>...</td>\n",
       "      <td>0</td>\n",
       "      <td>1</td>\n",
       "      <td>0</td>\n",
       "      <td>0</td>\n",
       "      <td>0</td>\n",
       "      <td>1</td>\n",
       "      <td>0</td>\n",
       "      <td>1</td>\n",
       "      <td>0</td>\n",
       "      <td>0</td>\n",
       "    </tr>\n",
       "    <tr>\n",
       "      <th>3</th>\n",
       "      <td>5124.60</td>\n",
       "      <td>1</td>\n",
       "      <td>0</td>\n",
       "      <td>1</td>\n",
       "      <td>0</td>\n",
       "      <td>0</td>\n",
       "      <td>1</td>\n",
       "      <td>0</td>\n",
       "      <td>0</td>\n",
       "      <td>1</td>\n",
       "      <td>...</td>\n",
       "      <td>0</td>\n",
       "      <td>1</td>\n",
       "      <td>0</td>\n",
       "      <td>0</td>\n",
       "      <td>1</td>\n",
       "      <td>0</td>\n",
       "      <td>0</td>\n",
       "      <td>1</td>\n",
       "      <td>0</td>\n",
       "      <td>0</td>\n",
       "    </tr>\n",
       "    <tr>\n",
       "      <th>4</th>\n",
       "      <td>723.40</td>\n",
       "      <td>1</td>\n",
       "      <td>0</td>\n",
       "      <td>1</td>\n",
       "      <td>0</td>\n",
       "      <td>0</td>\n",
       "      <td>1</td>\n",
       "      <td>1</td>\n",
       "      <td>0</td>\n",
       "      <td>0</td>\n",
       "      <td>...</td>\n",
       "      <td>0</td>\n",
       "      <td>1</td>\n",
       "      <td>0</td>\n",
       "      <td>0</td>\n",
       "      <td>1</td>\n",
       "      <td>0</td>\n",
       "      <td>0</td>\n",
       "      <td>0</td>\n",
       "      <td>0</td>\n",
       "      <td>1</td>\n",
       "    </tr>\n",
       "  </tbody>\n",
       "</table>\n",
       "<p>5 rows × 44 columns</p>\n",
       "</div>"
      ],
      "text/plain": [
       "   TotalCharges  SeniorCitizen_0  SeniorCitizen_1  Partner_No  Partner_Yes  \\\n",
       "0       3784.00                1                0           0            1   \n",
       "1        193.60                1                0           1            0   \n",
       "2       1238.65                1                0           1            0   \n",
       "3       5124.60                1                0           1            0   \n",
       "4        723.40                1                0           1            0   \n",
       "\n",
       "   PhoneService_No  PhoneService_Yes  MultipleLines_No  \\\n",
       "0                1                 0                 0   \n",
       "1                0                 1                 1   \n",
       "2                0                 1                 1   \n",
       "3                0                 1                 0   \n",
       "4                0                 1                 1   \n",
       "\n",
       "   MultipleLines_No phone service  MultipleLines_Yes  ...  \\\n",
       "0                               1                  0  ...   \n",
       "1                               0                  0  ...   \n",
       "2                               0                  0  ...   \n",
       "3                               0                  1  ...   \n",
       "4                               0                  0  ...   \n",
       "\n",
       "   PaperlessBilling_No  PaperlessBilling_Yes  \\\n",
       "0                    1                     0   \n",
       "1                    0                     1   \n",
       "2                    0                     1   \n",
       "3                    0                     1   \n",
       "4                    0                     1   \n",
       "\n",
       "   PaymentMethod_Bank transfer (automatic)  \\\n",
       "0                                        0   \n",
       "1                                        0   \n",
       "2                                        0   \n",
       "3                                        0   \n",
       "4                                        0   \n",
       "\n",
       "   PaymentMethod_Credit card (automatic)  PaymentMethod_Electronic check  \\\n",
       "0                                      1                               0   \n",
       "1                                      0                               0   \n",
       "2                                      0                               0   \n",
       "3                                      0                               1   \n",
       "4                                      0                               1   \n",
       "\n",
       "   PaymentMethod_Mailed check  tenure_bucket_long  tenure_bucket_medium  \\\n",
       "0                           0                   1                     0   \n",
       "1                           1                   0                     0   \n",
       "2                           1                   0                     1   \n",
       "3                           0                   0                     1   \n",
       "4                           0                   0                     0   \n",
       "\n",
       "   tenure_bucket_moderate  tenure_bucket_short  \n",
       "0                       0                    0  \n",
       "1                       0                    1  \n",
       "2                       0                    0  \n",
       "3                       0                    0  \n",
       "4                       0                    1  \n",
       "\n",
       "[5 rows x 44 columns]"
      ]
     },
     "execution_count": 9,
     "metadata": {},
     "output_type": "execute_result"
    }
   ],
   "source": [
    "X=pd.get_dummies(X)\n",
    "X.head()"
   ]
  },
  {
   "cell_type": "code",
   "execution_count": 10,
   "id": "04c1f0ae",
   "metadata": {
    "execution": {
     "iopub.execute_input": "2022-11-08T04:03:42.610453Z",
     "iopub.status.busy": "2022-11-08T04:03:42.609797Z",
     "iopub.status.idle": "2022-11-08T04:03:42.618614Z",
     "shell.execute_reply": "2022-11-08T04:03:42.617778Z"
    },
    "papermill": {
     "duration": 0.023648,
     "end_time": "2022-11-08T04:03:42.620842",
     "exception": false,
     "start_time": "2022-11-08T04:03:42.597194",
     "status": "completed"
    },
    "tags": []
   },
   "outputs": [],
   "source": [
    "X_train,X_test,y_train,y_test=train_test_split(X,y,test_size=0.20,random_state=400)"
   ]
  },
  {
   "cell_type": "code",
   "execution_count": 11,
   "id": "96863272",
   "metadata": {
    "execution": {
     "iopub.execute_input": "2022-11-08T04:03:42.642848Z",
     "iopub.status.busy": "2022-11-08T04:03:42.642302Z",
     "iopub.status.idle": "2022-11-08T04:03:42.828821Z",
     "shell.execute_reply": "2022-11-08T04:03:42.827977Z"
    },
    "papermill": {
     "duration": 0.200391,
     "end_time": "2022-11-08T04:03:42.831392",
     "exception": false,
     "start_time": "2022-11-08T04:03:42.631001",
     "status": "completed"
    },
    "tags": []
   },
   "outputs": [],
   "source": [
    "#SMOTE\n",
    "from imblearn.over_sampling import SMOTE\n",
    "sm = SMOTE(random_state = 400)\n",
    "X_train_res, y_train_res = sm.fit_resample(X_train, y_train)"
   ]
  },
  {
   "cell_type": "markdown",
   "id": "6797a3cd",
   "metadata": {
    "papermill": {
     "duration": 0.012383,
     "end_time": "2022-11-08T04:03:42.856903",
     "exception": false,
     "start_time": "2022-11-08T04:03:42.844520",
     "status": "completed"
    },
    "tags": []
   },
   "source": [
    "# 5 - Initiate ML model"
   ]
  },
  {
   "cell_type": "code",
   "execution_count": 12,
   "id": "bb6737f9",
   "metadata": {
    "execution": {
     "iopub.execute_input": "2022-11-08T04:03:42.883926Z",
     "iopub.status.busy": "2022-11-08T04:03:42.883539Z",
     "iopub.status.idle": "2022-11-08T04:03:42.889596Z",
     "shell.execute_reply": "2022-11-08T04:03:42.888752Z"
    },
    "papermill": {
     "duration": 0.022309,
     "end_time": "2022-11-08T04:03:42.892017",
     "exception": false,
     "start_time": "2022-11-08T04:03:42.869708",
     "status": "completed"
    },
    "tags": []
   },
   "outputs": [],
   "source": [
    "clf=GradientBoostingClassifier(max_depth=4,random_state=400)"
   ]
  },
  {
   "cell_type": "code",
   "execution_count": 13,
   "id": "0e055633",
   "metadata": {
    "execution": {
     "iopub.execute_input": "2022-11-08T04:03:42.915975Z",
     "iopub.status.busy": "2022-11-08T04:03:42.915613Z",
     "iopub.status.idle": "2022-11-08T04:03:44.094763Z",
     "shell.execute_reply": "2022-11-08T04:03:44.093756Z"
    },
    "papermill": {
     "duration": 1.191988,
     "end_time": "2022-11-08T04:03:44.096830",
     "exception": false,
     "start_time": "2022-11-08T04:03:42.904842",
     "status": "completed"
    },
    "tags": []
   },
   "outputs": [
    {
     "data": {
      "text/plain": [
       "GradientBoostingClassifier(max_depth=4, random_state=400)"
      ]
     },
     "execution_count": 13,
     "metadata": {},
     "output_type": "execute_result"
    }
   ],
   "source": [
    "#SMOTE\n",
    "clf.fit(X_train_res, y_train_res)"
   ]
  },
  {
   "cell_type": "code",
   "execution_count": 14,
   "id": "59dae1b6",
   "metadata": {
    "execution": {
     "iopub.execute_input": "2022-11-08T04:03:44.118108Z",
     "iopub.status.busy": "2022-11-08T04:03:44.117726Z",
     "iopub.status.idle": "2022-11-08T04:03:44.134077Z",
     "shell.execute_reply": "2022-11-08T04:03:44.132515Z"
    },
    "papermill": {
     "duration": 0.030216,
     "end_time": "2022-11-08T04:03:44.137058",
     "exception": false,
     "start_time": "2022-11-08T04:03:44.106842",
     "status": "completed"
    },
    "tags": []
   },
   "outputs": [
    {
     "data": {
      "text/plain": [
       "0.8098391674550615"
      ]
     },
     "execution_count": 14,
     "metadata": {},
     "output_type": "execute_result"
    }
   ],
   "source": [
    "clf.score(X_test,y_test)"
   ]
  },
  {
   "cell_type": "markdown",
   "id": "ba6e4691",
   "metadata": {
    "papermill": {
     "duration": 0.010315,
     "end_time": "2022-11-08T04:03:44.157836",
     "exception": false,
     "start_time": "2022-11-08T04:03:44.147521",
     "status": "completed"
    },
    "tags": []
   },
   "source": [
    "# 6 - Grid search for optimum hyperparameter"
   ]
  },
  {
   "cell_type": "markdown",
   "id": "f5949801",
   "metadata": {
    "papermill": {
     "duration": 0.010322,
     "end_time": "2022-11-08T04:03:44.178317",
     "exception": false,
     "start_time": "2022-11-08T04:03:44.167995",
     "status": "completed"
    },
    "tags": []
   },
   "source": [
    "# 7 - Feature importance"
   ]
  },
  {
   "cell_type": "code",
   "execution_count": 15,
   "id": "6f2c7bc8",
   "metadata": {
    "execution": {
     "iopub.execute_input": "2022-11-08T04:03:44.202833Z",
     "iopub.status.busy": "2022-11-08T04:03:44.202443Z",
     "iopub.status.idle": "2022-11-08T04:03:44.211819Z",
     "shell.execute_reply": "2022-11-08T04:03:44.211040Z"
    },
    "papermill": {
     "duration": 0.023495,
     "end_time": "2022-11-08T04:03:44.213695",
     "exception": false,
     "start_time": "2022-11-08T04:03:44.190200",
     "status": "completed"
    },
    "tags": []
   },
   "outputs": [
    {
     "data": {
      "text/plain": [
       "array([1.48517660e-01, 6.87161728e-03, 1.05091797e-02, 2.93212500e-02,\n",
       "       1.78177195e-02, 6.69928244e-04, 4.19219323e-04, 8.31672144e-03,\n",
       "       4.35529071e-04, 2.09557032e-03, 3.73301206e-02, 3.67169255e-03,\n",
       "       4.41932134e-03, 1.10311201e-02, 3.86146680e-03, 3.29116675e-02,\n",
       "       8.30918652e-03, 2.00233401e-02, 1.01408657e-02, 1.43783167e-03,\n",
       "       5.68708782e-03, 5.51693191e-04, 9.07234898e-03, 9.49077387e-04,\n",
       "       2.50880527e-02, 4.43363838e-03, 1.35324420e-02, 8.34056608e-04,\n",
       "       5.78234251e-03, 1.28809414e-02, 6.43187562e-03, 2.33775862e-01,\n",
       "       1.32650937e-01, 5.43510803e-02, 5.57661741e-02, 2.72312320e-02,\n",
       "       1.19983645e-02, 1.53432602e-02, 8.78843754e-03, 8.32026672e-03,\n",
       "       1.24878608e-03, 1.48003361e-04, 5.44005009e-04, 6.47902726e-03])"
      ]
     },
     "execution_count": 15,
     "metadata": {},
     "output_type": "execute_result"
    }
   ],
   "source": [
    "clf.feature_importances_"
   ]
  },
  {
   "cell_type": "code",
   "execution_count": 16,
   "id": "19c9dc46",
   "metadata": {
    "execution": {
     "iopub.execute_input": "2022-11-08T04:03:44.237716Z",
     "iopub.status.busy": "2022-11-08T04:03:44.237011Z",
     "iopub.status.idle": "2022-11-08T04:03:44.247193Z",
     "shell.execute_reply": "2022-11-08T04:03:44.245767Z"
    },
    "papermill": {
     "duration": 0.025017,
     "end_time": "2022-11-08T04:03:44.249593",
     "exception": false,
     "start_time": "2022-11-08T04:03:44.224576",
     "status": "completed"
    },
    "tags": []
   },
   "outputs": [
    {
     "data": {
      "text/plain": [
       "Contract_Month-to-month                    0.233776\n",
       "TotalCharges                               0.148518\n",
       "Contract_One year                          0.132651\n",
       "PaperlessBilling_No                        0.055766\n",
       "Contract_Two year                          0.054351\n",
       "InternetService_DSL                        0.037330\n",
       "OnlineSecurity_Yes                         0.032912\n",
       "Partner_No                                 0.029321\n",
       "PaperlessBilling_Yes                       0.027231\n",
       "TechSupport_Yes                            0.025088\n",
       "OnlineBackup_No internet service           0.020023\n",
       "Partner_Yes                                0.017818\n",
       "PaymentMethod_Credit card (automatic)      0.015343\n",
       "StreamingTV_No internet service            0.013532\n",
       "StreamingMovies_No internet service        0.012881\n",
       "PaymentMethod_Bank transfer (automatic)    0.011998\n",
       "OnlineSecurity_No                          0.011031\n",
       "SeniorCitizen_1                            0.010509\n",
       "OnlineBackup_Yes                           0.010141\n",
       "TechSupport_No                             0.009072\n",
       "PaymentMethod_Electronic check             0.008788\n",
       "PaymentMethod_Mailed check                 0.008320\n",
       "MultipleLines_No                           0.008317\n",
       "OnlineBackup_No                            0.008309\n",
       "SeniorCitizen_0                            0.006872\n",
       "tenure_bucket_short                        0.006479\n",
       "StreamingMovies_Yes                        0.006432\n",
       "StreamingMovies_No                         0.005782\n",
       "DeviceProtection_No internet service       0.005687\n",
       "StreamingTV_No                             0.004434\n",
       "InternetService_No                         0.004419\n",
       "OnlineSecurity_No internet service         0.003861\n",
       "InternetService_Fiber optic                0.003672\n",
       "MultipleLines_Yes                          0.002096\n",
       "DeviceProtection_No                        0.001438\n",
       "tenure_bucket_long                         0.001249\n",
       "TechSupport_No internet service            0.000949\n",
       "StreamingTV_Yes                            0.000834\n",
       "PhoneService_No                            0.000670\n",
       "DeviceProtection_Yes                       0.000552\n",
       "tenure_bucket_moderate                     0.000544\n",
       "MultipleLines_No phone service             0.000436\n",
       "PhoneService_Yes                           0.000419\n",
       "tenure_bucket_medium                       0.000148\n",
       "dtype: float64"
      ]
     },
     "execution_count": 16,
     "metadata": {},
     "output_type": "execute_result"
    }
   ],
   "source": [
    "feature_imp=pd.Series(clf.feature_importances_,index=X.columns)\n",
    "feature_imp.sort_values(ascending=False)"
   ]
  },
  {
   "cell_type": "code",
   "execution_count": 17,
   "id": "970156e8",
   "metadata": {
    "execution": {
     "iopub.execute_input": "2022-11-08T04:03:44.274734Z",
     "iopub.status.busy": "2022-11-08T04:03:44.274046Z",
     "iopub.status.idle": "2022-11-08T04:03:44.712687Z",
     "shell.execute_reply": "2022-11-08T04:03:44.711223Z"
    },
    "papermill": {
     "duration": 0.453011,
     "end_time": "2022-11-08T04:03:44.714693",
     "exception": false,
     "start_time": "2022-11-08T04:03:44.261682",
     "status": "completed"
    },
    "tags": []
   },
   "outputs": [
    {
     "data": {
      "text/plain": [
       "<AxesSubplot:>"
      ]
     },
     "execution_count": 17,
     "metadata": {},
     "output_type": "execute_result"
    },
    {
     "data": {
      "image/png": "[encoded data removed]",
      "text/plain": [
       "<Figure size 432x288 with 1 Axes>"
      ]
     },
     "metadata": {
      "needs_background": "light"
     },
     "output_type": "display_data"
    }
   ],
   "source": [
    "feature_imp.sort_values(ascending=False).plot(kind='bar')"
   ]
  },
  {
   "cell_type": "markdown",
   "id": "cdc7a648",
   "metadata": {
    "papermill": {
     "duration": 0.010472,
     "end_time": "2022-11-08T04:03:44.736109",
     "exception": false,
     "start_time": "2022-11-08T04:03:44.725637",
     "status": "completed"
    },
    "tags": []
   },
   "source": [
    "# 8 - Predict on train"
   ]
  },
  {
   "cell_type": "code",
   "execution_count": 18,
   "id": "4c6d05c7",
   "metadata": {
    "execution": {
     "iopub.execute_input": "2022-11-08T04:03:44.759806Z",
     "iopub.status.busy": "2022-11-08T04:03:44.759439Z",
     "iopub.status.idle": "2022-11-08T04:03:44.783196Z",
     "shell.execute_reply": "2022-11-08T04:03:44.781721Z"
    },
    "papermill": {
     "duration": 0.039457,
     "end_time": "2022-11-08T04:03:44.786504",
     "exception": false,
     "start_time": "2022-11-08T04:03:44.747047",
     "status": "completed"
    },
    "tags": []
   },
   "outputs": [],
   "source": [
    "y_train_predicted = clf.predict(X_train)\n",
    "y_test_predicted = clf.predict(X_test)"
   ]
  },
  {
   "cell_type": "code",
   "execution_count": 19,
   "id": "01a9dd97",
   "metadata": {
    "execution": {
     "iopub.execute_input": "2022-11-08T04:03:44.810893Z",
     "iopub.status.busy": "2022-11-08T04:03:44.810523Z",
     "iopub.status.idle": "2022-11-08T04:03:44.832767Z",
     "shell.execute_reply": "2022-11-08T04:03:44.831226Z"
    },
    "papermill": {
     "duration": 0.037727,
     "end_time": "2022-11-08T04:03:44.835934",
     "exception": false,
     "start_time": "2022-11-08T04:03:44.798207",
     "status": "completed"
    },
    "tags": []
   },
   "outputs": [
    {
     "name": "stdout",
     "output_type": "stream",
     "text": [
      "              precision    recall  f1-score   support\n",
      "\n",
      "           0       0.88      0.89      0.89      3108\n",
      "           1       0.69      0.67      0.68      1117\n",
      "\n",
      "    accuracy                           0.83      4225\n",
      "   macro avg       0.79      0.78      0.78      4225\n",
      "weighted avg       0.83      0.83      0.83      4225\n",
      "\n",
      "AUC = 0.7817366221573921\n",
      "              precision    recall  f1-score   support\n",
      "\n",
      "           0       0.86      0.88      0.87       772\n",
      "           1       0.66      0.61      0.64       285\n",
      "\n",
      "    accuracy                           0.81      1057\n",
      "   macro avg       0.76      0.75      0.75      1057\n",
      "weighted avg       0.81      0.81      0.81      1057\n",
      "\n",
      "AUC = 0.7480797200254523\n"
     ]
    }
   ],
   "source": [
    "# Check performance\n",
    "from sklearn import metrics\n",
    "\n",
    "print(classification_report(y_train, y_train_predicted))\n",
    "print('AUC =',metrics.roc_auc_score(y_train, y_train_predicted))\n",
    "\n",
    "print(classification_report(y_test, y_test_predicted))\n",
    "print('AUC =',metrics.roc_auc_score(y_test, y_test_predicted))\n",
    "\n",
    "# Results are perfect?"
   ]
  },
  {
   "cell_type": "markdown",
   "id": "f52e5834",
   "metadata": {
    "papermill": {
     "duration": 0.010619,
     "end_time": "2022-11-08T04:03:44.857948",
     "exception": false,
     "start_time": "2022-11-08T04:03:44.847329",
     "status": "completed"
    },
    "tags": []
   },
   "source": [
    "# 9 - Load test data set and do data cleaning"
   ]
  },
  {
   "cell_type": "code",
   "execution_count": 20,
   "id": "589a2e88",
   "metadata": {
    "execution": {
     "iopub.execute_input": "2022-11-08T04:03:44.882077Z",
     "iopub.status.busy": "2022-11-08T04:03:44.881112Z",
     "iopub.status.idle": "2022-11-08T04:03:44.907234Z",
     "shell.execute_reply": "2022-11-08T04:03:44.906177Z"
    },
    "papermill": {
     "duration": 0.040674,
     "end_time": "2022-11-08T04:03:44.909562",
     "exception": false,
     "start_time": "2022-11-08T04:03:44.868888",
     "status": "completed"
    },
    "tags": []
   },
   "outputs": [
    {
     "data": {
      "text/plain": [
       "customerID          0\n",
       "gender              0\n",
       "SeniorCitizen       0\n",
       "Partner             0\n",
       "Dependents          0\n",
       "tenure              0\n",
       "PhoneService        0\n",
       "MultipleLines       0\n",
       "InternetService     0\n",
       "OnlineSecurity      0\n",
       "OnlineBackup        0\n",
       "DeviceProtection    0\n",
       "TechSupport         0\n",
       "StreamingTV         0\n",
       "StreamingMovies     0\n",
       "Contract            0\n",
       "PaperlessBilling    0\n",
       "PaymentMethod       0\n",
       "MonthlyCharges      0\n",
       "TotalCharges        3\n",
       "dtype: int64"
      ]
     },
     "execution_count": 20,
     "metadata": {},
     "output_type": "execute_result"
    }
   ],
   "source": [
    "test = pd.read_csv('../input/ipba-12-unext-jigsaw-classification-case-study/test.csv',na_values=\" \")\n",
    "test1 = test\n",
    "test1.isnull().sum()"
   ]
  },
  {
   "cell_type": "code",
   "execution_count": 21,
   "id": "95d5c68f",
   "metadata": {
    "execution": {
     "iopub.execute_input": "2022-11-08T04:03:44.934532Z",
     "iopub.status.busy": "2022-11-08T04:03:44.933825Z",
     "iopub.status.idle": "2022-11-08T04:03:44.944728Z",
     "shell.execute_reply": "2022-11-08T04:03:44.943186Z"
    },
    "papermill": {
     "duration": 0.026385,
     "end_time": "2022-11-08T04:03:44.947251",
     "exception": false,
     "start_time": "2022-11-08T04:03:44.920866",
     "status": "completed"
    },
    "tags": []
   },
   "outputs": [
    {
     "data": {
      "text/plain": [
       "customerID          0\n",
       "gender              0\n",
       "SeniorCitizen       0\n",
       "Partner             0\n",
       "Dependents          0\n",
       "tenure              0\n",
       "PhoneService        0\n",
       "MultipleLines       0\n",
       "InternetService     0\n",
       "OnlineSecurity      0\n",
       "OnlineBackup        0\n",
       "DeviceProtection    0\n",
       "TechSupport         0\n",
       "StreamingTV         0\n",
       "StreamingMovies     0\n",
       "Contract            0\n",
       "PaperlessBilling    0\n",
       "PaymentMethod       0\n",
       "MonthlyCharges      0\n",
       "TotalCharges        0\n",
       "dtype: int64"
      ]
     },
     "execution_count": 21,
     "metadata": {},
     "output_type": "execute_result"
    }
   ],
   "source": [
    "test1.TotalCharges = test1.TotalCharges.fillna(0)\n",
    "test1.isnull().sum()"
   ]
  },
  {
   "cell_type": "code",
   "execution_count": 22,
   "id": "ecfcb6a6",
   "metadata": {
    "execution": {
     "iopub.execute_input": "2022-11-08T04:03:44.971991Z",
     "iopub.status.busy": "2022-11-08T04:03:44.971375Z",
     "iopub.status.idle": "2022-11-08T04:03:44.984815Z",
     "shell.execute_reply": "2022-11-08T04:03:44.983885Z"
    },
    "papermill": {
     "duration": 0.028519,
     "end_time": "2022-11-08T04:03:44.987172",
     "exception": false,
     "start_time": "2022-11-08T04:03:44.958653",
     "status": "completed"
    },
    "tags": []
   },
   "outputs": [
    {
     "name": "stdout",
     "output_type": "stream",
     "text": [
      "<class 'pandas.core.frame.DataFrame'>\n",
      "RangeIndex: 1761 entries, 0 to 1760\n",
      "Data columns (total 20 columns):\n",
      " #   Column            Non-Null Count  Dtype  \n",
      "---  ------            --------------  -----  \n",
      " 0   customerID        1761 non-null   object \n",
      " 1   gender            1761 non-null   object \n",
      " 2   SeniorCitizen     1761 non-null   object \n",
      " 3   Partner           1761 non-null   object \n",
      " 4   Dependents        1761 non-null   object \n",
      " 5   tenure            1761 non-null   int64  \n",
      " 6   PhoneService      1761 non-null   object \n",
      " 7   MultipleLines     1761 non-null   object \n",
      " 8   InternetService   1761 non-null   object \n",
      " 9   OnlineSecurity    1761 non-null   object \n",
      " 10  OnlineBackup      1761 non-null   object \n",
      " 11  DeviceProtection  1761 non-null   object \n",
      " 12  TechSupport       1761 non-null   object \n",
      " 13  StreamingTV       1761 non-null   object \n",
      " 14  StreamingMovies   1761 non-null   object \n",
      " 15  Contract          1761 non-null   object \n",
      " 16  PaperlessBilling  1761 non-null   object \n",
      " 17  PaymentMethod     1761 non-null   object \n",
      " 18  MonthlyCharges    1761 non-null   float64\n",
      " 19  TotalCharges      1761 non-null   float64\n",
      "dtypes: float64(2), int64(1), object(17)\n",
      "memory usage: 275.3+ KB\n"
     ]
    }
   ],
   "source": [
    "test1.SeniorCitizen = test1.SeniorCitizen.astype(object)\n",
    "test1.info()"
   ]
  },
  {
   "cell_type": "code",
   "execution_count": 23,
   "id": "841f328a",
   "metadata": {
    "execution": {
     "iopub.execute_input": "2022-11-08T04:03:45.012551Z",
     "iopub.status.busy": "2022-11-08T04:03:45.011718Z",
     "iopub.status.idle": "2022-11-08T04:03:45.026388Z",
     "shell.execute_reply": "2022-11-08T04:03:45.024988Z"
    },
    "papermill": {
     "duration": 0.030116,
     "end_time": "2022-11-08T04:03:45.028668",
     "exception": false,
     "start_time": "2022-11-08T04:03:44.998552",
     "status": "completed"
    },
    "tags": []
   },
   "outputs": [
    {
     "data": {
      "text/plain": [
       "short       710\n",
       "moderate    358\n",
       "medium      347\n",
       "long        346\n",
       "Name: tenure_bucket, dtype: int64"
      ]
     },
     "execution_count": 23,
     "metadata": {},
     "output_type": "execute_result"
    }
   ],
   "source": [
    "# Create a list of conditions for bucketing\n",
    "condition = [\n",
    "    (test1['tenure'] <= 20),\n",
    "    (test1['tenure'] > 20) & (test1['tenure'] <= 40),\n",
    "    (test1['tenure'] > 40) & (test1['tenure'] <= 60),\n",
    "    (test1['tenure'] > 60)\n",
    "]\n",
    "\n",
    "# Create list of categorical values related to these conditions\n",
    "values = ['short','moderate','medium','long']\n",
    "\n",
    "# Create a new column\n",
    "test1['tenure_bucket'] = np.select(condition,values)\n",
    "test1['tenure_bucket'].value_counts()"
   ]
  },
  {
   "cell_type": "markdown",
   "id": "0a054c7f",
   "metadata": {
    "papermill": {
     "duration": 0.011299,
     "end_time": "2022-11-08T04:03:45.051527",
     "exception": false,
     "start_time": "2022-11-08T04:03:45.040228",
     "status": "completed"
    },
    "tags": []
   },
   "source": [
    "# 10 - Prepare for prediction on test dataset"
   ]
  },
  {
   "cell_type": "code",
   "execution_count": 24,
   "id": "7f6e36b9",
   "metadata": {
    "execution": {
     "iopub.execute_input": "2022-11-08T04:03:45.077171Z",
     "iopub.status.busy": "2022-11-08T04:03:45.076749Z",
     "iopub.status.idle": "2022-11-08T04:03:45.112893Z",
     "shell.execute_reply": "2022-11-08T04:03:45.111903Z"
    },
    "papermill": {
     "duration": 0.052433,
     "end_time": "2022-11-08T04:03:45.115665",
     "exception": false,
     "start_time": "2022-11-08T04:03:45.063232",
     "status": "completed"
    },
    "tags": []
   },
   "outputs": [
    {
     "data": {
      "text/html": [
       "<div>\n",
       "<style scoped>\n",
       "    .dataframe tbody tr th:only-of-type {\n",
       "        vertical-align: middle;\n",
       "    }\n",
       "\n",
       "    .dataframe tbody tr th {\n",
       "        vertical-align: top;\n",
       "    }\n",
       "\n",
       "    .dataframe thead th {\n",
       "        text-align: right;\n",
       "    }\n",
       "</style>\n",
       "<table border=\"1\" class=\"dataframe\">\n",
       "  <thead>\n",
       "    <tr style=\"text-align: right;\">\n",
       "      <th></th>\n",
       "      <th>TotalCharges</th>\n",
       "      <th>SeniorCitizen_0</th>\n",
       "      <th>SeniorCitizen_1</th>\n",
       "      <th>Partner_No</th>\n",
       "      <th>Partner_Yes</th>\n",
       "      <th>PhoneService_No</th>\n",
       "      <th>PhoneService_Yes</th>\n",
       "      <th>MultipleLines_No</th>\n",
       "      <th>MultipleLines_No phone service</th>\n",
       "      <th>MultipleLines_Yes</th>\n",
       "      <th>...</th>\n",
       "      <th>PaperlessBilling_No</th>\n",
       "      <th>PaperlessBilling_Yes</th>\n",
       "      <th>PaymentMethod_Bank transfer (automatic)</th>\n",
       "      <th>PaymentMethod_Credit card (automatic)</th>\n",
       "      <th>PaymentMethod_Electronic check</th>\n",
       "      <th>PaymentMethod_Mailed check</th>\n",
       "      <th>tenure_bucket_long</th>\n",
       "      <th>tenure_bucket_medium</th>\n",
       "      <th>tenure_bucket_moderate</th>\n",
       "      <th>tenure_bucket_short</th>\n",
       "    </tr>\n",
       "  </thead>\n",
       "  <tbody>\n",
       "    <tr>\n",
       "      <th>0</th>\n",
       "      <td>4297.6</td>\n",
       "      <td>1</td>\n",
       "      <td>0</td>\n",
       "      <td>1</td>\n",
       "      <td>0</td>\n",
       "      <td>0</td>\n",
       "      <td>1</td>\n",
       "      <td>0</td>\n",
       "      <td>0</td>\n",
       "      <td>1</td>\n",
       "      <td>...</td>\n",
       "      <td>0</td>\n",
       "      <td>1</td>\n",
       "      <td>0</td>\n",
       "      <td>0</td>\n",
       "      <td>0</td>\n",
       "      <td>1</td>\n",
       "      <td>0</td>\n",
       "      <td>1</td>\n",
       "      <td>0</td>\n",
       "      <td>0</td>\n",
       "    </tr>\n",
       "    <tr>\n",
       "      <th>1</th>\n",
       "      <td>838.5</td>\n",
       "      <td>1</td>\n",
       "      <td>0</td>\n",
       "      <td>0</td>\n",
       "      <td>1</td>\n",
       "      <td>0</td>\n",
       "      <td>1</td>\n",
       "      <td>0</td>\n",
       "      <td>0</td>\n",
       "      <td>1</td>\n",
       "      <td>...</td>\n",
       "      <td>1</td>\n",
       "      <td>0</td>\n",
       "      <td>1</td>\n",
       "      <td>0</td>\n",
       "      <td>0</td>\n",
       "      <td>0</td>\n",
       "      <td>0</td>\n",
       "      <td>0</td>\n",
       "      <td>1</td>\n",
       "      <td>0</td>\n",
       "    </tr>\n",
       "    <tr>\n",
       "      <th>2</th>\n",
       "      <td>521.0</td>\n",
       "      <td>1</td>\n",
       "      <td>0</td>\n",
       "      <td>0</td>\n",
       "      <td>1</td>\n",
       "      <td>1</td>\n",
       "      <td>0</td>\n",
       "      <td>0</td>\n",
       "      <td>1</td>\n",
       "      <td>0</td>\n",
       "      <td>...</td>\n",
       "      <td>1</td>\n",
       "      <td>0</td>\n",
       "      <td>0</td>\n",
       "      <td>1</td>\n",
       "      <td>0</td>\n",
       "      <td>0</td>\n",
       "      <td>0</td>\n",
       "      <td>0</td>\n",
       "      <td>0</td>\n",
       "      <td>1</td>\n",
       "    </tr>\n",
       "    <tr>\n",
       "      <th>3</th>\n",
       "      <td>85.0</td>\n",
       "      <td>1</td>\n",
       "      <td>0</td>\n",
       "      <td>1</td>\n",
       "      <td>0</td>\n",
       "      <td>0</td>\n",
       "      <td>1</td>\n",
       "      <td>1</td>\n",
       "      <td>0</td>\n",
       "      <td>0</td>\n",
       "      <td>...</td>\n",
       "      <td>0</td>\n",
       "      <td>1</td>\n",
       "      <td>0</td>\n",
       "      <td>0</td>\n",
       "      <td>1</td>\n",
       "      <td>0</td>\n",
       "      <td>0</td>\n",
       "      <td>0</td>\n",
       "      <td>0</td>\n",
       "      <td>1</td>\n",
       "    </tr>\n",
       "    <tr>\n",
       "      <th>4</th>\n",
       "      <td>2554.0</td>\n",
       "      <td>1</td>\n",
       "      <td>0</td>\n",
       "      <td>0</td>\n",
       "      <td>1</td>\n",
       "      <td>1</td>\n",
       "      <td>0</td>\n",
       "      <td>0</td>\n",
       "      <td>1</td>\n",
       "      <td>0</td>\n",
       "      <td>...</td>\n",
       "      <td>1</td>\n",
       "      <td>0</td>\n",
       "      <td>0</td>\n",
       "      <td>0</td>\n",
       "      <td>0</td>\n",
       "      <td>1</td>\n",
       "      <td>0</td>\n",
       "      <td>1</td>\n",
       "      <td>0</td>\n",
       "      <td>0</td>\n",
       "    </tr>\n",
       "  </tbody>\n",
       "</table>\n",
       "<p>5 rows × 44 columns</p>\n",
       "</div>"
      ],
      "text/plain": [
       "   TotalCharges  SeniorCitizen_0  SeniorCitizen_1  Partner_No  Partner_Yes  \\\n",
       "0        4297.6                1                0           1            0   \n",
       "1         838.5                1                0           0            1   \n",
       "2         521.0                1                0           0            1   \n",
       "3          85.0                1                0           1            0   \n",
       "4        2554.0                1                0           0            1   \n",
       "\n",
       "   PhoneService_No  PhoneService_Yes  MultipleLines_No  \\\n",
       "0                0                 1                 0   \n",
       "1                0                 1                 0   \n",
       "2                1                 0                 0   \n",
       "3                0                 1                 1   \n",
       "4                1                 0                 0   \n",
       "\n",
       "   MultipleLines_No phone service  MultipleLines_Yes  ...  \\\n",
       "0                               0                  1  ...   \n",
       "1                               0                  1  ...   \n",
       "2                               1                  0  ...   \n",
       "3                               0                  0  ...   \n",
       "4                               1                  0  ...   \n",
       "\n",
       "   PaperlessBilling_No  PaperlessBilling_Yes  \\\n",
       "0                    0                     1   \n",
       "1                    1                     0   \n",
       "2                    1                     0   \n",
       "3                    0                     1   \n",
       "4                    1                     0   \n",
       "\n",
       "   PaymentMethod_Bank transfer (automatic)  \\\n",
       "0                                        0   \n",
       "1                                        1   \n",
       "2                                        0   \n",
       "3                                        0   \n",
       "4                                        0   \n",
       "\n",
       "   PaymentMethod_Credit card (automatic)  PaymentMethod_Electronic check  \\\n",
       "0                                      0                               0   \n",
       "1                                      0                               0   \n",
       "2                                      1                               0   \n",
       "3                                      0                               1   \n",
       "4                                      0                               0   \n",
       "\n",
       "   PaymentMethod_Mailed check  tenure_bucket_long  tenure_bucket_medium  \\\n",
       "0                           1                   0                     1   \n",
       "1                           0                   0                     0   \n",
       "2                           0                   0                     0   \n",
       "3                           0                   0                     0   \n",
       "4                           1                   0                     1   \n",
       "\n",
       "   tenure_bucket_moderate  tenure_bucket_short  \n",
       "0                       0                    0  \n",
       "1                       1                    0  \n",
       "2                       0                    1  \n",
       "3                       0                    1  \n",
       "4                       0                    0  \n",
       "\n",
       "[5 rows x 44 columns]"
      ]
     },
     "execution_count": 24,
     "metadata": {},
     "output_type": "execute_result"
    }
   ],
   "source": [
    "test1 = test1.drop(['customerID','tenure','gender','Dependents','MonthlyCharges'], axis = 1)\n",
    "test1 = pd.get_dummies(test1)\n",
    "test1.head()"
   ]
  },
  {
   "cell_type": "markdown",
   "id": "66ddc0ed",
   "metadata": {
    "papermill": {
     "duration": 0.012185,
     "end_time": "2022-11-08T04:03:45.139998",
     "exception": false,
     "start_time": "2022-11-08T04:03:45.127813",
     "status": "completed"
    },
    "tags": []
   },
   "source": [
    "# 11 - Predict on test dataset"
   ]
  },
  {
   "cell_type": "code",
   "execution_count": 25,
   "id": "ec032dba",
   "metadata": {
    "execution": {
     "iopub.execute_input": "2022-11-08T04:03:45.166365Z",
     "iopub.status.busy": "2022-11-08T04:03:45.165906Z",
     "iopub.status.idle": "2022-11-08T04:03:45.181755Z",
     "shell.execute_reply": "2022-11-08T04:03:45.180531Z"
    },
    "papermill": {
     "duration": 0.031765,
     "end_time": "2022-11-08T04:03:45.183948",
     "exception": false,
     "start_time": "2022-11-08T04:03:45.152183",
     "status": "completed"
    },
    "tags": []
   },
   "outputs": [
    {
     "data": {
      "text/plain": [
       "1761"
      ]
     },
     "execution_count": 25,
     "metadata": {},
     "output_type": "execute_result"
    }
   ],
   "source": [
    "test_predicted = clf.predict(test1)\n",
    "len(test_predicted)"
   ]
  },
  {
   "cell_type": "markdown",
   "id": "e7ceacc6",
   "metadata": {
    "papermill": {
     "duration": 0.012076,
     "end_time": "2022-11-08T04:03:45.208170",
     "exception": false,
     "start_time": "2022-11-08T04:03:45.196094",
     "status": "completed"
    },
    "tags": []
   },
   "source": [
    "# 12 - Create submission"
   ]
  },
  {
   "cell_type": "code",
   "execution_count": 26,
   "id": "65388889",
   "metadata": {
    "execution": {
     "iopub.execute_input": "2022-11-08T04:03:45.234551Z",
     "iopub.status.busy": "2022-11-08T04:03:45.233931Z",
     "iopub.status.idle": "2022-11-08T04:03:45.245071Z",
     "shell.execute_reply": "2022-11-08T04:03:45.244281Z"
    },
    "papermill": {
     "duration": 0.026798,
     "end_time": "2022-11-08T04:03:45.247421",
     "exception": false,
     "start_time": "2022-11-08T04:03:45.220623",
     "status": "completed"
    },
    "tags": []
   },
   "outputs": [],
   "source": [
    "test['Churn'] = test_predicted\n",
    "submission = test[['customerID','Churn']]\n",
    "submission.to_csv('submission.csv',index=False)"
   ]
  }
 ],
 "metadata": {
  "kernelspec": {
   "display_name": "Python 3",
   "language": "python",
   "name": "python3"
  },
  "language_info": {
   "codemirror_mode": {
    "name": "ipython",
    "version": 3
   },
   "file_extension": ".py",
   "mimetype": "text/x-python",
   "name": "python",
   "nbconvert_exporter": "python",
   "pygments_lexer": "ipython3",
   "version": "3.7.12"
  },
  "papermill": {
   "default_parameters": {},
   "duration": 14.817823,
   "end_time": "2022-11-08T04:03:46.088821",
   "environment_variables": {},
   "exception": null,
   "input_path": "__notebook__.ipynb",
   "output_path": "__notebook__.ipynb",
   "parameters": {},
   "start_time": "2022-11-08T04:03:31.270998",
   "version": "2.3.4"
  }
 },
 "nbformat": 4,
 "nbformat_minor": 5
}
